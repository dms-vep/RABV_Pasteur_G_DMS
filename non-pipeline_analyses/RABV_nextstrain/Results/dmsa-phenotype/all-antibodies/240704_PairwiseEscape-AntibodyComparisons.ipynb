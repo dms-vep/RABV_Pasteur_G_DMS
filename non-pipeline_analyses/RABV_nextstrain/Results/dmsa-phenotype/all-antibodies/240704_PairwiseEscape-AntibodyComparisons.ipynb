{
 "cells": [
  {
   "cell_type": "code",
   "execution_count": null,
   "id": "9c49af8d-81d3-4f7d-945b-2d4d05a31dc3",
   "metadata": {},
   "outputs": [],
   "source": [
    "import pandas as pd\n",
    "from matplotlib import pyplot as pl\n",
    "\n",
    "import altair as alt\n",
    "_ = alt.data_transformers.disable_max_rows()"
   ]
  },
  {
   "cell_type": "code",
   "execution_count": null,
   "id": "df8fba79-723c-4b8f-bfe6-0c54d1a135fc",
   "metadata": {},
   "outputs": [],
   "source": [
    "rabishield_escape_predictions = pd.read_csv('17C7_filtered_mut_effects.csv_escape_prediction.csv');\n",
    "\n",
    "#okay we should do some sort of accession 'label' since it will be kind of annoying to use the raw strain name.\n",
    "\n",
    "rabishield_escape_predictions['accession']=rabishield_escape_predictions['strain'].apply(lambda x: x.split('_')[1])\n",
    "\n",
    "\n",
    "\n",
    "def format_mut_numbers(mut_list_input):\n",
    "    #okay so we want to try and reformat the list of measured mutations since they will be important for ID'ing escape muts.\n",
    "    #the thing is the numbers are off by 19, so i want to make it easier to identify the mutants from mousing over on altair.\n",
    "    \n",
    "    #step 1: get muts, split text\n",
    "    mut_list = mut_list_input['measured_aa_substitutions'].tolist();\n",
    "    mut_list = mut_list[0];\n",
    "\n",
    "    mut_list = mut_list.split(' ');\n",
    "    \n",
    "\n",
    "    #step 2: initialize replacement array\n",
    "    mut_list_renumbered = [];\n",
    "\n",
    "    #step 3: cycle through all values in mut_list and correct.\n",
    "    for i in mut_list:\n",
    "        #get integer of position\n",
    "        position = int(i[1:-2]);\n",
    "\n",
    "        #subtract--it's off by 19, and re-cast as string\n",
    "        position_corrected = position-19;\n",
    "        position_corrected = str(position_corrected);\n",
    "\n",
    "        #concatenate\n",
    "        mutant_corrected = i[0]+position_corrected+i[-1];\n",
    "\n",
    "        #append to corrected list\n",
    "        mut_list_renumbered.append(mutant_corrected)\n",
    "\n",
    "    #step 4: return\n",
    "    return \n",
    "\n",
    "\n",
    "#input\n",
    "#df = dataframe with escape predictions of circulating strains\n",
    "#antibody = string value of antibody studied\n",
    "\n",
    "\n",
    "def format_df(df, antibody):\n",
    "    df_copy = df.copy();\n",
    "\n",
    "    #create an 'accession' label instead for plotting\n",
    "    df_copy['accession']=df_copy['strain'].apply(lambda x: x.split('_')[1])\n",
    "\n",
    "    #create suffix for the pred_phenotype column since I'll be doing pairwise plotting\n",
    "    new_col_name = 'pred_phenotype_'+antibody;\n",
    "    df_copy= df_copy.rename(columns={\"pred_phenotype\": new_col_name})\n",
    "\n",
    "\n",
    "\n",
    "    \n",
    "    return df_copy;\n",
    "\n",
    "\n",
    "\n"
   ]
  },
  {
   "cell_type": "code",
   "execution_count": null,
   "id": "2f99b5d2-e9d5-4dd0-a542-dc1e49c035a3",
   "metadata": {},
   "outputs": [],
   "source": [
    "#okay so it looks like this worked. Let's go ahead and cycle through the antibodies\n",
    "\n",
    "antibody_list = ['17C7','CR4098','CR57','CTB012','RVA122','RVC20','RVC58','RVC68'];\n",
    "\n",
    "\n",
    "\n",
    "dataframes = {}\n",
    "\n",
    "# Loop through the list and read each CSV file\n",
    "for antibody in antibody_list:\n",
    "    #make file name\n",
    "    file_name = antibody+'_filtered_mut_effects.csv_escape_prediction.csv';\n",
    "    \n",
    "    # Extract the name without the file extension for dictionary key\n",
    "    name = antibody\n",
    "    \n",
    "    # Read the CSV file into a DataFrame\n",
    "    df = pd.read_csv(file_name)\n",
    "\n",
    "    #format dataframe\n",
    "    df = format_df(df,antibody)\n",
    "    # Store the DataFrame in the dictionary\n",
    "    dataframes[name] = df\n",
    "\n"
   ]
  },
  {
   "cell_type": "code",
   "execution_count": null,
   "id": "444c30c3-6972-4b06-bbc8-828f0fc3946c",
   "metadata": {},
   "outputs": [],
   "source": [
    "\n",
    "\n",
    "df_17C7 = dataframes['17C7']\n",
    "\n",
    "df_RVC20 = dataframes['RVC20']\n",
    "df_RVC58 = dataframes['RVC58']\n",
    "\n",
    "df_CR4098 = dataframes['CR4098']\n",
    "df_CR57 = dataframes['CR57']\n",
    "\n",
    "df_RVC68 = dataframes['RVC68']\n",
    "df_CTB012 = dataframes['CTB012']\n",
    "\n",
    "df_RVA122 = dataframes['RVA122']\n"
   ]
  },
  {
   "cell_type": "code",
   "execution_count": null,
   "id": "4f8044b6-245a-4cc4-9b92-952e88342225",
   "metadata": {},
   "outputs": [],
   "source": [
    "#merge everything\n",
    "\n",
    "dfs = [df_17C7,df_RVC20,df_RVC58,df_CR4098,df_CR57,df_RVC68,df_CTB012,df_RVA122];\n",
    "\n",
    "merged_df = dfs[0]\n",
    "\n",
    "for df in dfs[1:]:\n",
    "    merged_df = pd.merge(merged_df, df, on=['strain','all_aa_substitutions','measured_aa_substitutions','unmeasured_aa_substitutions','disallowed_aa_substitutions','n_disallowed_aa_substitutions','accession'], how='inner')\n",
    "\n"
   ]
  },
  {
   "cell_type": "code",
   "execution_count": null,
   "id": "897afd7c-e20b-46ef-a288-f97f5904ee13",
   "metadata": {},
   "outputs": [],
   "source": [
    "merged_df"
   ]
  },
  {
   "cell_type": "code",
   "execution_count": null,
   "id": "d3a1993b-e895-443e-893a-785bc24a356b",
   "metadata": {},
   "outputs": [],
   "source": [
    "import altair as alt\n",
    "_ = alt.data_transformers.disable_max_rows()"
   ]
  },
  {
   "cell_type": "code",
   "execution_count": null,
   "id": "86c8e8f5-a9bf-4982-8841-9a79ed616f39",
   "metadata": {},
   "outputs": [],
   "source": [
    "# Create the scatter plot with a tooltip\n",
    "\n",
    "\n",
    "scatter_plot = alt.Chart(merged_df).mark_circle(size=60).encode(\n",
    "    x='pred_phenotype_RVC20',\n",
    "    y='pred_phenotype_CR57',\n",
    "    tooltip=['accession','strain','measured_aa_substitutions']\n",
    ").properties(\n",
    "    title='RVC20 versus CR57'\n",
    ")\n",
    "\n",
    "# Display the plot\n",
    "scatter_plot"
   ]
  },
  {
   "cell_type": "code",
   "execution_count": null,
   "id": "932b08a1-7eb2-4592-9456-2504800b5440",
   "metadata": {},
   "outputs": [],
   "source": [
    "subset = ['2718','JQ685952','KJ174664','OR500222'];\n",
    "\n",
    "merged_df[merged_df['accession'].isin(subset)]"
   ]
  },
  {
   "cell_type": "code",
   "execution_count": null,
   "id": "8c7cb346-66d0-4a17-bfa6-16c86839c477",
   "metadata": {},
   "outputs": [],
   "source": [
    "scatter_plot = alt.Chart(merged_df).mark_circle(size=60).encode(\n",
    "    x='pred_phenotype_RVC20',\n",
    "    y='pred_phenotype_RVC58',\n",
    "    tooltip=['accession','strain','measured_aa_substitutions']\n",
    ").properties(\n",
    "    title='RVC20 versus RVC58'\n",
    ")\n",
    "\n",
    "# Display the plot\n",
    "scatter_plot"
   ]
  },
  {
   "cell_type": "code",
   "execution_count": null,
   "id": "d54962bd-4568-492e-9c59-a3f134174218",
   "metadata": {},
   "outputs": [],
   "source": [
    "merged_df[merged_df['accession']=='2008-XX-XX']"
   ]
  },
  {
   "cell_type": "code",
   "execution_count": null,
   "id": "201c4034-b20c-4751-9342-1a947056f02a",
   "metadata": {},
   "outputs": [],
   "source": [
    "scatter_plot = alt.Chart(merged_df).mark_circle(size=60).encode(\n",
    "    x='pred_phenotype_17C7',\n",
    "    y='pred_phenotype_RVC58',\n",
    "    tooltip=['accession','strain','measured_aa_substitutions']\n",
    ").properties(\n",
    "    title='RVC58 versus 17C7'\n",
    ")\n",
    "\n",
    "# Display the plot\n",
    "scatter_plot"
   ]
  },
  {
   "cell_type": "code",
   "execution_count": null,
   "id": "7ae16679-92c1-44b1-a284-a7307d955ae0",
   "metadata": {},
   "outputs": [],
   "source": [
    "scatter_plot = alt.Chart(merged_df).mark_circle(size=60).encode(\n",
    "    x='pred_phenotype_17C7',\n",
    "    y='pred_phenotype_CR57',\n",
    "    tooltip=['accession','strain','measured_aa_substitutions']\n",
    ").properties(\n",
    "    title='CR57 versus 17C7'\n",
    ")\n",
    "\n",
    "# Display the plot\n",
    "scatter_plot"
   ]
  },
  {
   "cell_type": "code",
   "execution_count": null,
   "id": "8fcd6e78-5995-4439-9be7-3dde45067865",
   "metadata": {},
   "outputs": [],
   "source": [
    "merged_df[merged_df['accession']=='2008-XX-XX']\n"
   ]
  },
  {
   "cell_type": "code",
   "execution_count": null,
   "id": "529c1647-cb0c-4039-aec5-f547658ae430",
   "metadata": {},
   "outputs": [],
   "source": [
    "scatter_plot = alt.Chart(merged_df).mark_circle(size=60).encode(\n",
    "    x='pred_phenotype_17C7',\n",
    "    y='pred_phenotype_RVA122',\n",
    "    tooltip=['accession','strain']\n",
    ").properties(\n",
    "    title='RVA122 versus 17C7'\n",
    ")\n",
    "\n",
    "# Display the plot\n",
    "scatter_plot"
   ]
  },
  {
   "cell_type": "code",
   "execution_count": null,
   "id": "1ac4e50d-dbe7-4d8f-966f-3a8f7c285020",
   "metadata": {},
   "outputs": [],
   "source": [
    "scatter_plot = alt.Chart(merged_df).mark_circle(size=60).encode(\n",
    "    x='pred_phenotype_CTB012',\n",
    "    y='pred_phenotype_RVA122',\n",
    "    tooltip=['accession','strain']\n",
    ").properties(\n",
    "    title='CTB012 versus RVA122'\n",
    ")\n",
    "\n",
    "# Display the plot\n",
    "scatter_plot"
   ]
  },
  {
   "cell_type": "code",
   "execution_count": null,
   "id": "36a1a68a-6e61-42bb-9a29-0f19b5a8cec1",
   "metadata": {},
   "outputs": [],
   "source": [
    "scatter_plot = alt.Chart(merged_df).mark_circle(size=60).encode(\n",
    "    x='pred_phenotype_CR4098',\n",
    "    y='pred_phenotype_17C7',\n",
    "    tooltip=['accession','strain']\n",
    ").properties(\n",
    "    title='CR4098 vs 17C7'\n",
    ")\n",
    "\n",
    "# Display the plot\n",
    "scatter_plot"
   ]
  },
  {
   "cell_type": "code",
   "execution_count": null,
   "id": "e5be221f-d9d7-4774-9235-e1b55da199fb",
   "metadata": {},
   "outputs": [],
   "source": [
    "scatter_plot = alt.Chart(merged_df).mark_circle(size=60).encode(\n",
    "    x='pred_phenotype_CR4098',\n",
    "    y='pred_phenotype_CR57',\n",
    "    tooltip=['accession','strain']\n",
    ").properties(\n",
    "    title='CR4098 vs CR57'\n",
    ")\n",
    "\n",
    "# Display the plot\n",
    "scatter_plot"
   ]
  },
  {
   "cell_type": "code",
   "execution_count": null,
   "id": "a322d1cb-ff05-4741-9ef5-86681b05ffe9",
   "metadata": {},
   "outputs": [],
   "source": [
    "#CR4098 subset\n",
    "CR4098_subset = ['4125','JQ685952','0000069','KJ174664','0625','2718']\n",
    "\n",
    "merged_df[merged_df['accession'].isin(CR4098_subset)==True]"
   ]
  },
  {
   "cell_type": "code",
   "execution_count": null,
   "id": "c3dc90e5-e638-4752-b847-aa29cbb7ba33",
   "metadata": {},
   "outputs": [],
   "source": [
    "scatter_plot = alt.Chart(merged_df).mark_circle(size=60).encode(\n",
    "    x='pred_phenotype_RVC58',\n",
    "    y='pred_phenotype_RVC20',\n",
    "    tooltip=['accession','strain']\n",
    ").properties(\n",
    "    title='RVC58 vs RVC20'\n",
    ")\n",
    "\n",
    "# Display the plot\n",
    "scatter_plot"
   ]
  },
  {
   "cell_type": "code",
   "execution_count": null,
   "id": "b8944e95-8f64-440f-b138-a40877211379",
   "metadata": {},
   "outputs": [],
   "source": [
    "scatter_plot = alt.Chart(merged_df).mark_circle(size=60).encode(\n",
    "    x='pred_phenotype_CR57',\n",
    "    y='pred_phenotype_RVC20',\n",
    "    tooltip=['accession','strain']\n",
    ").properties(\n",
    "    title='CR57 vs RVC20'\n",
    ")\n",
    "\n",
    "# Display the plot\n",
    "scatter_plot"
   ]
  },
  {
   "cell_type": "code",
   "execution_count": null,
   "id": "94845e30-525c-4a67-9332-420f419ac8af",
   "metadata": {},
   "outputs": [],
   "source": [
    "merged_df[merged_df['accession']=='0001663']"
   ]
  },
  {
   "cell_type": "code",
   "execution_count": null,
   "id": "f1c158de-cd16-49c5-b49f-c904176952e4",
   "metadata": {},
   "outputs": [],
   "source": [
    "scatter_plot = alt.Chart(merged_df).mark_circle(size=60).encode(\n",
    "    x='pred_phenotype_CR4098',\n",
    "    y='pred_phenotype_17C7',\n",
    "    tooltip=['accession','strain']\n",
    ").properties(\n",
    "    title='CR4098 vs 17C7'\n",
    ")\n",
    "\n",
    "# Display the plot\n",
    "scatter_plot"
   ]
  },
  {
   "cell_type": "code",
   "execution_count": null,
   "id": "7d85589c-c403-43aa-b0b5-3e40ea0d7d27",
   "metadata": {},
   "outputs": [],
   "source": [
    "merged_df[merged_df['accession']=='0625']"
   ]
  },
  {
   "cell_type": "code",
   "execution_count": null,
   "id": "5b239d9f-22c6-44cd-9d4c-f0c85b192121",
   "metadata": {},
   "outputs": [],
   "source": [
    "scatter_plot = alt.Chart(merged_df).mark_circle(size=60).encode(\n",
    "    x='pred_phenotype_CTB012',\n",
    "    y='pred_phenotype_RVC68',\n",
    "    tooltip=['accession','strain']\n",
    ").properties(\n",
    "    title='CTB012 vs RVC68'\n",
    ")\n",
    "\n",
    "# Display the plot\n",
    "scatter_plot"
   ]
  },
  {
   "cell_type": "code",
   "execution_count": null,
   "id": "7dfc2747-8ff5-41bb-8788-eedf9ad9b085",
   "metadata": {},
   "outputs": [],
   "source": [
    "#pull out RVC68 strains\n",
    "candidates = ['DQ875051', 'KM492765', 'LC071944'];\n",
    "merged_df[merged_df['accession'].isin(candidates)]\n",
    "\n"
   ]
  },
  {
   "cell_type": "code",
   "execution_count": null,
   "id": "cc99cfc1-5ca1-453c-8df0-467c243477df",
   "metadata": {},
   "outputs": [],
   "source": [
    "#pull out CTB012 strains\n",
    "\n",
    "KF620489, KC792208, "
   ]
  },
  {
   "cell_type": "code",
   "execution_count": null,
   "id": "1e299d53-a43f-46dd-81a1-c37aee97ddfd",
   "metadata": {},
   "outputs": [],
   "source": [
    "scatter_plot = alt.Chart(merged_df).mark_circle(size=60).encode(\n",
    "    x='pred_phenotype_RVC20',\n",
    "    y='pred_phenotype_RVA122',\n",
    "    tooltip=['accession','strain']\n",
    ").properties(\n",
    "    title='RVC20 vs RVA122'\n",
    ")\n",
    "\n",
    "# Display the plot\n",
    "scatter_plot"
   ]
  },
  {
   "cell_type": "code",
   "execution_count": null,
   "id": "55e900a2-bfea-4957-b2d7-fbc4dd7d2891",
   "metadata": {},
   "outputs": [],
   "source": [
    "scatter_plot = alt.Chart(merged_df).mark_circle(size=60).encode(\n",
    "    x='pred_phenotype_RVC20',\n",
    "    y='pred_phenotype_RVC58',\n",
    "    tooltip=['accession','strain']\n",
    ").properties(\n",
    "    title='RVC20 vs RVC58'\n",
    ")\n",
    "\n",
    "# Display the plot\n",
    "scatter_plot"
   ]
  },
  {
   "cell_type": "code",
   "execution_count": null,
   "id": "125e2add-ec89-4a62-a7da-6fdcfa4bd582",
   "metadata": {},
   "outputs": [],
   "source": [
    "scatter_plot = alt.Chart(merged_df).mark_circle(size=60).encode(\n",
    "    x='pred_phenotype_CR57',\n",
    "    y='pred_phenotype_RVA122',\n",
    "    tooltip=['accession','strain']\n",
    ").properties(\n",
    "    title='CR57 vs RVA122'\n",
    ")\n",
    "\n",
    "# Display the plot\n",
    "scatter_plot"
   ]
  },
  {
   "cell_type": "code",
   "execution_count": null,
   "id": "a274b68c-b204-4f9d-bae3-a95cf594bd88",
   "metadata": {},
   "outputs": [],
   "source": []
  },
  {
   "cell_type": "code",
   "execution_count": null,
   "id": "34ab28b0-9230-4f9f-9c30-a9cada885df6",
   "metadata": {},
   "outputs": [],
   "source": [
    "#collect strain information\n",
    "\n",
    "accession = ['"
   ]
  },
  {
   "cell_type": "code",
   "execution_count": null,
   "id": "d831e303-e352-42a0-8d3f-41376cd0e982",
   "metadata": {},
   "outputs": [],
   "source": []
  },
  {
   "cell_type": "code",
   "execution_count": null,
   "id": "1816db22-771d-4f75-b43f-56528b48866d",
   "metadata": {},
   "outputs": [],
   "source": []
  },
  {
   "cell_type": "code",
   "execution_count": null,
   "id": "dadfd4bb-fcf5-4ac9-9c82-29ba4a639adb",
   "metadata": {},
   "outputs": [],
   "source": []
  },
  {
   "cell_type": "code",
   "execution_count": null,
   "id": "cad0adf5-dce2-40fe-9110-e8aa1dacbd56",
   "metadata": {},
   "outputs": [],
   "source": []
  }
 ],
 "metadata": {
  "kernelspec": {
   "display_name": "Python 3 (ipykernel)",
   "language": "python",
   "name": "python3"
  },
  "language_info": {
   "codemirror_mode": {
    "name": "ipython",
    "version": 3
   },
   "file_extension": ".py",
   "mimetype": "text/x-python",
   "name": "python",
   "nbconvert_exporter": "python",
   "pygments_lexer": "ipython3",
   "version": "3.11.7"
  }
 },
 "nbformat": 4,
 "nbformat_minor": 5
}
