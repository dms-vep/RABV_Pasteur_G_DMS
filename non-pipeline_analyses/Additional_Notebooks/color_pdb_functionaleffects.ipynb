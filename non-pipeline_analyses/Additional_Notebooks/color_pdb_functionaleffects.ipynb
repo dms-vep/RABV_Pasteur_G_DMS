{
 "cells": [
  {
   "cell_type": "markdown",
   "id": "2ac24240-b669-437c-8c82-3706e244ae56",
   "metadata": {},
   "source": [
    "# Color PDB structures by functional effects\n",
    "\n",
    "authored by Arjun Aditham on 08-Feb-2024;\n",
    "\n",
    "This is a generic notebook that can be used to re-assign b-factors with various functional effects or values. As a note, this used to be placed at the top of the RABV-G DMS Github repository directory, but has been since moved to the Addition_Notebooks sub-directory within non-pipeline_analyses"
   ]
  },
  {
   "cell_type": "code",
   "execution_count": null,
   "id": "52ee8647-c43c-4674-a2c7-ab8b849111a0",
   "metadata": {},
   "outputs": [],
   "source": [
    "#This is a crude attempt to rewrite the b-factors with mean functional effect data for rabies glycoprotein trimer. \n",
    "\n",
    "import subprocess\n",
    "import sys\n",
    "\n",
    "import pandas as pd \n",
    "import polyclonal\n",
    "import numpy as np"
   ]
  },
  {
   "cell_type": "code",
   "execution_count": null,
   "id": "6d420827-2199-46de-8233-6a1f52a716ab",
   "metadata": {},
   "outputs": [],
   "source": [
    "#settings for PDB file\n",
    "\n",
    "input_pdb_file = 'data/7u9g.pdb'\n",
    "target_chains = ['A','B','C'];\n",
    "\n",
    "\n",
    "escape_file = 'results/antibody_escape/averages/RVC58_mut_effect.csv';\n",
    "\n",
    "functional_effects_file = 'results/func_effects/averages/HEK293T_entry_func_effects.csv';\n",
    "\n",
    "output_pdb_file_name = 'results/7u9g_RVC58.pdb'\n",
    "#output_file_sub_name = '/results/func_effects/averages/HEK293T_entry_func_effects.csv';"
   ]
  },
  {
   "cell_type": "code",
   "execution_count": null,
   "id": "cf82b288-0637-48fd-b4dc-397c45635898",
   "metadata": {},
   "outputs": [],
   "source": [
    "colspecs = [(0, 6), (6, 11), (12, 16), (16, 17), (17, 20), (21, 22), (22, 26),\n",
    "            (26, 27), (30, 38), (38, 46), (46, 54), (54, 60), (60, 66), (76, 78),\n",
    "            (78, 80)]\n",
    "\n",
    "names = ['ATOM', 'serial', 'name', 'altloc', 'resname', 'chainid', 'resseq',\n",
    "         'icode', 'x', 'y', 'z', 'occupancy', 'tempfactor', 'element', 'charge']\n",
    "\n",
    "pdb = pd.read_fwf(input_pdb_file, names=names, colspecs=colspecs)"
   ]
  },
  {
   "cell_type": "code",
   "execution_count": null,
   "id": "88255cc8-a937-427a-b66c-17787caa7e0e",
   "metadata": {},
   "outputs": [],
   "source": [
    "#make subset dataframe that only contains chains of interest--A,B,C (trimer only)\n",
    "pdb_subsetchains = pdb[pdb['chainid'].isin(target_chains)]"
   ]
  },
  {
   "cell_type": "code",
   "execution_count": null,
   "id": "dd59bbbf-92d0-4e96-b314-d3949c0b6bc9",
   "metadata": {},
   "outputs": [],
   "source": [
    "functional_effects_data"
   ]
  },
  {
   "cell_type": "code",
   "execution_count": null,
   "id": "a7d12a5d-db0a-4a65-8416-13a45f49265a",
   "metadata": {},
   "outputs": [],
   "source": [
    "#get functional effect data\n",
    "functional_effects_data = pd.read_csv(functional_effects_file)\n",
    "\n",
    "escape_data = pd.read_csv(escape_file);\n",
    "\n",
    "#merge data\n",
    "merged_dfs = pd.merge(escape_data,functional_effects_data,how='left',on=['site','wildtype','mutant'])\n",
    "\n",
    "\n",
    "#filter by times seen (n>2)\n",
    "merged_dfs = merged_dfs[merged_dfs['times_seen_x']>=2]\n",
    "merged_dfs = merged_dfs[merged_dfs['times_seen_x']>=2]\n",
    "\n",
    "#group by site # to take mean of effect. I'm not going to worry about effect_std rn \n",
    "#because the error propagation is going over my head (also idk if that is projected)\n",
    "merged_dfs_grouped = merged_dfs.groupby('site')\n",
    "\n",
    "\n",
    "#take mean at every position\n",
    "def get_mean(df):\n",
    "    result = df.copy();\n",
    "    functional_effect_values = result['escape_mean'];\n",
    "\n",
    "    result['sum_escape']= sum(functional_effect_values);\n",
    "\n",
    "    return result.reset_index(drop=True);\n",
    "\n",
    "\n",
    "merged_dfs_grouped= merged_dfs_grouped.apply(get_mean)\n"
   ]
  },
  {
   "cell_type": "code",
   "execution_count": null,
   "id": "a6230301-9831-42ca-9cb3-8d5010bfabc4",
   "metadata": {},
   "outputs": [],
   "source": [
    "import seaborn as sb\n",
    "from matplotlib import pyplot as pl\n",
    "import matplotlib.cm as cm\n",
    "from matplotlib.colors import ListedColormap\n",
    "\n",
    "fig,ax= pl.subplots(figsize=(30,2))\n",
    "pl.plot(merged_dfs_grouped['site'],merged_dfs_grouped['sum_escape'])\n",
    "pl.scatter(merged_dfs_grouped['site'],merged_dfs_grouped['sum_escape'],s=5,c='orange')\n",
    "\n",
    "pl.ylabel('escpae_mean')\n",
    "pl.xlabel('site')\n",
    "\n",
    "pl.show()\n",
    "\n",
    "\n",
    "#okay these seem to indicate that these values are position by position means (best I can tell)."
   ]
  },
  {
   "cell_type": "code",
   "execution_count": null,
   "id": "8cf97dd7-f77b-4554-a858-183bf284f6b3",
   "metadata": {},
   "outputs": [],
   "source": [
    "min(merged_dfs_grouped['sum_escape'])"
   ]
  },
  {
   "cell_type": "code",
   "execution_count": null,
   "id": "28d30cb1-48c7-447d-a44d-5fe07c4a0247",
   "metadata": {},
   "outputs": [],
   "source": [
    "#I only need 1 mean value per site. So i will just drop duplicates accordingly. \n",
    "\n",
    "merged_dfs_grouped = merged_dfs_grouped.drop_duplicates(['site']);"
   ]
  },
  {
   "cell_type": "code",
   "execution_count": null,
   "id": "2a27f79c-032d-4c92-8158-ca7e1cafd3f5",
   "metadata": {},
   "outputs": [],
   "source": [
    "df = pd.DataFrame(columns=['chain','site','mean'])\n"
   ]
  },
  {
   "cell_type": "code",
   "execution_count": null,
   "id": "51c648cd-bd96-4805-b129-f68b485499d0",
   "metadata": {},
   "outputs": [],
   "source": [
    "chain_array=list();\n",
    "site_array=list();\n",
    "mean_array=list();\n",
    "\n",
    "site_list = merged_dfs_grouped['site'].tolist();\n",
    "means_list = merged_dfs_grouped['sum_escape'].tolist();\n",
    "\n",
    "for i in target_chains:\n",
    "    for j in range(0, len(site_list)):\n",
    "        chain_array.append(i);\n",
    "        site_array.append(site_list[j]);\n",
    "        mean_array.append(means_list[j]);\n",
    "    \n",
    "        "
   ]
  },
  {
   "cell_type": "code",
   "execution_count": null,
   "id": "94a3fcaa-d5fd-40fd-8c7b-f9350b2d29f9",
   "metadata": {},
   "outputs": [],
   "source": [
    "#okay let's jsut make the df have values now\n",
    "df['chain']=chain_array;\n",
    "df['site']=site_array;\n",
    "df['mean']=mean_array\n",
    "\n",
    "df\n",
    "\n",
    "#specific formatting for df\n",
    "#df = df[~df['site'].str.contains(\"a|b|c|d|e|f|g\")]\n",
    "df['site'] = df['site'].astype(int)\n",
    "df=df[df['site']>0];"
   ]
  },
  {
   "cell_type": "code",
   "execution_count": null,
   "id": "2297f460-82c1-4d39-b798-60914ead4fd1",
   "metadata": {},
   "outputs": [],
   "source": [
    "# save the new PDB file\n",
    "polyclonal.pdb_utils.reassign_b_factor(input_pdbfile=input_pdb_file, \n",
    "                                        output_pdbfile=output_pdb_file_name, \n",
    "                                        df=df, \n",
    "                                        metric_col='mean')"
   ]
  },
  {
   "cell_type": "code",
   "execution_count": null,
   "id": "e0600ecf-2ea2-4a45-8c06-75a853111ba1",
   "metadata": {},
   "outputs": [],
   "source": [
    "df[df['site']==333]"
   ]
  },
  {
   "cell_type": "code",
   "execution_count": null,
   "id": "85b8620f-cd01-4120-800b-9d078f1eab96",
   "metadata": {},
   "outputs": [],
   "source": [
    "fig,ax= pl.subplots(figsize=(30,2))\n",
    "pl.plot(df['site'],df['mean'])\n",
    "\n",
    "pl.ylabel('mean_escape')\n",
    "pl.xlabel('site')\n",
    "\n",
    "pl.show()\n"
   ]
  },
  {
   "cell_type": "code",
   "execution_count": null,
   "id": "7541c2bf-ce11-4e20-89f4-ec5c463becc7",
   "metadata": {},
   "outputs": [],
   "source": []
  }
 ],
 "metadata": {
  "kernelspec": {
   "display_name": "Python 3 (ipykernel)",
   "language": "python",
   "name": "python3"
  },
  "language_info": {
   "codemirror_mode": {
    "name": "ipython",
    "version": 3
   },
   "file_extension": ".py",
   "mimetype": "text/x-python",
   "name": "python",
   "nbconvert_exporter": "python",
   "pygments_lexer": "ipython3",
   "version": "3.11.9"
  }
 },
 "nbformat": 4,
 "nbformat_minor": 5
}
