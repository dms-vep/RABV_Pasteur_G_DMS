{
 "cells": [
  {
   "cell_type": "markdown",
   "metadata": {},
   "source": [
    "# Amino Acid distributions per variant\n",
    "\n",
    "Authored by Arjun Aditham (7/2024)\n",
    "\n",
    "This notebook produces statistics used for calculating the number of variants for each library, and then also analyses the source file to generate distributions for number of amino acid mutations per variant. This notebook produces Figures S1C and S1D. Note: this notebook was previously run from another directory and has since been moved. The outputs of the notebook below are preserved.\n"
   ]
  },
  {
   "cell_type": "code",
   "execution_count": null,
   "metadata": {},
   "outputs": [],
   "source": [
    "#import dependencies.\n",
    "\n",
    "import pandas as pd\n",
    "from matplotlib import pyplot as pl\n",
    "import seaborn as sb\n",
    "import numpy as np\n",
    "import matplotlib.cm as cm\n",
    "import scipy.stats\n",
    "from matplotlib.colors import ListedColormap\n",
    "import math\n"
   ]
  },
  {
   "cell_type": "code",
   "execution_count": 2,
   "metadata": {},
   "outputs": [
    {
     "name": "stdout",
     "output_type": "stream",
     "text": [
      "Library A barcodes 83706\n",
      "Library B barcodes 89327\n"
     ]
    }
   ],
   "source": [
    "variants = pd.read_csv('../results/variants/codon_variants.csv');\n",
    "\n",
    "#establish libraries\n",
    "library = ['A','B'];\n",
    "\n",
    "\n",
    "#make a funtion that just says if something contains an indel\n",
    "def identify_indel(sub_list):\n",
    "    #cast as string\n",
    "    sublist_str = str(sub_list);\n",
    "    if ('-' in sublist_str):\n",
    "        return True\n",
    "    else:\n",
    "        return False\n",
    "\n",
    "\n",
    "#loop through list and collect barcode numbers\n",
    "for i in library:\n",
    "    subset = variants[variants['library']==i];\n",
    "    subset = subset[subset['target']=='gene']\n",
    "    \n",
    "    #make another column for 'indel' to check for indels and eliminate\n",
    "    subset['indel_present'] = subset['aa_substitutions'].apply(lambda x: identify_indel(x));\n",
    "    \n",
    "    #okay filter to remove indels\n",
    "    subset=subset[subset['indel_present']==False]\n",
    "    \n",
    "    barcodes = subset.barcode.unique().tolist();\n",
    "    print('Library '+i+' barcodes '+ str(len(barcodes)))\n",
    "\n",
    "#barcode counts from pipeline: A=83706 B=89327"
   ]
  },
  {
   "cell_type": "code",
   "execution_count": 5,
   "metadata": {
    "scrolled": true
   },
   "outputs": [
    {
     "data": {
      "image/png": "[encoded data removed]",
      "text/plain": [
       "<Figure size 800x400 with 2 Axes>"
      ]
     },
     "metadata": {},
     "output_type": "display_data"
    },
    {
     "name": "stderr",
     "output_type": "stream",
     "text": [
      "The PostScript backend does not support transparency; partially transparent artists will be rendered opaque.\n"
     ]
    }
   ],
   "source": [
    "#okay let's do the facetgrid of plots. I want this in seaborn style for aesthetic control\n",
    "\n",
    "g = sb.FacetGrid(variants, col=\"library\", col_wrap=2, height=4)\n",
    "\n",
    "# Map the scatterplot to the FacetGrid\n",
    "g = g.map(sb.histplot, 'n_aa_substitutions',kde=False,discrete=True,shrink=0.7, color='gray')\n",
    "\n",
    "pl.xlim(-0.5,6)\n",
    "pl.xticks([0,1,2,3,4,5,6])\n",
    "\n",
    "pl.ylabel('Number of Variants')\n",
    "# Show plot\n",
    "pl.show()\n",
    "\n",
    "#suppress output for deposition of notebooks\n",
    "#g.savefig('240726_aa-distributions.eps')"
   ]
  },
  {
   "cell_type": "code",
   "execution_count": 6,
   "metadata": {},
   "outputs": [
    {
     "name": "stdout",
     "output_type": "stream",
     "text": [
      "before processing LibA substitution array count 83706\n",
      "remove NaN (unmutated) LibA substitution array count 73759\n",
      "purge stop codons LibA substitution array count 72681\n",
      "All mutants collapsed to single list: 94542\n",
      "purge duplicates of single mutants: 8207\n",
      "ectodomain single mutants: 8207\n",
      "\n",
      "before processing LibB substitution array count 89327\n",
      "remove NaN (unmutated) LibB substitution array count 77967\n",
      "purge stop codons LibB substitution array count 76862\n",
      "All mutants collapsed to single list: 99686\n",
      "purge duplicates of single mutants: 8200\n",
      "ectodomain single mutants: 8200\n",
      "\n"
     ]
    }
   ],
   "source": [
    "#okay now let's calculate the number of unique mutants in the library using this filtered dataframe.\n",
    "\n",
    "list_muts = [];\n",
    "\n",
    "\n",
    "def is_nan(value):\n",
    "    return isinstance(value, float) and math.isnan(value)\n",
    "\n",
    "\n",
    "for i in library:\n",
    "    subset = variants[variants['library']==i];\n",
    "    subset = subset[subset['target']=='gene'];\n",
    "    \n",
    "    #make another column for 'indel' to check for indels and eliminate\n",
    "    subset['indel_present'] = subset['aa_substitutions'].apply(lambda x: identify_indel(x));\n",
    "    \n",
    "    #okay filter to remove indels\n",
    "    subset=subset[subset['indel_present']==False]\n",
    "    \n",
    "    #okay let's just make a list of what remains and work with that.\n",
    "    list_of_all_mutants = subset.aa_substitutions.tolist();\n",
    "    print('before processing Lib' + i + ' substitution array count ' + str(len(list_of_all_mutants)));\n",
    "    \n",
    "    #filter out all NaN\n",
    "    list_of_all_mutants = [x for x in list_of_all_mutants if not is_nan(x)];\n",
    "    print('remove NaN (unmutated) Lib' + i + ' substitution array count ' + str(len(list_of_all_mutants)));\n",
    "    \n",
    "    #filter out all stop codons\n",
    "    list_of_all_mutants = [x for x in list_of_all_mutants if not '*' in str(x)];\n",
    "    print('purge stop codons Lib' + i + ' substitution array count ' + str(len(list_of_all_mutants)));\n",
    "    \n",
    "    #I want to now take the list of list of mutants and convert it into a singular array with all elements\n",
    "    all_muts_listed = [];\n",
    "    \n",
    "    for i in list_of_all_mutants:\n",
    "        #okay need to split this down by ' ' delimiting\n",
    "        split_list = i.split(' ')\n",
    "        for j in split_list:\n",
    "            all_muts_listed.append(j);\n",
    "    \n",
    "    print('All mutants collapsed to single list: ' + str(len(all_muts_listed)));\n",
    "    \n",
    "    #purge duplicate listings\n",
    "    cleaned_data = list(set(all_muts_listed));\n",
    "    print('purge duplicates of single mutants: ' + str(len(cleaned_data)));\n",
    "    \n",
    "    \n",
    "    #okay, so now we have all individual mutants, but we need to isolate for which ones are in ectodomain (resi 18-450).\n",
    "    #This is handwavey but because of numbering convention, the residue numbers need to be subtracted by 17. So I should\n",
    "    #check for residues within 1-433.\n",
    "    \n",
    "    list_ectodomain_mutants = [x for x in cleaned_data if int(x[1:-1])>=1 and int(x[1:-1])<=433];\n",
    "    print('ectodomain single mutants: ' + str(len(list_ectodomain_mutants)));\n",
    "    \n",
    "    \n",
    "    #okay purge for mutants in ectodomain only?\n",
    "\n",
    "    \n",
    "    print()\n",
    "    \n",
    "    \n",
    "\n",
    "    \n",
    "    \n",
    "\n"
   ]
  },
  {
   "cell_type": "code",
   "execution_count": 86,
   "metadata": {},
   "outputs": [
    {
     "data": {
      "text/plain": [
       "8227"
      ]
     },
     "execution_count": 86,
     "metadata": {},
     "output_type": "execute_result"
    }
   ],
   "source": [
    "433*19"
   ]
  },
  {
   "cell_type": "code",
   "execution_count": null,
   "metadata": {},
   "outputs": [],
   "source": []
  }
 ],
 "metadata": {
  "kernelspec": {
   "display_name": "Python 3 (ipykernel)",
   "language": "python",
   "name": "python3"
  },
  "language_info": {
   "codemirror_mode": {
    "name": "ipython",
    "version": 3
   },
   "file_extension": ".py",
   "mimetype": "text/x-python",
   "name": "python",
   "nbconvert_exporter": "python",
   "pygments_lexer": "ipython3",
   "version": "3.11.9"
  }
 },
 "nbformat": 4,
 "nbformat_minor": 4
}
