{
 "cells": [
  {
   "cell_type": "code",
   "execution_count": 1,
   "id": "2cca6e2b-ff95-4aa6-b9ae-f79ea1760da1",
   "metadata": {},
   "outputs": [],
   "source": [
    "import pandas as pd\n"
   ]
  },
  {
   "cell_type": "code",
   "execution_count": 2,
   "id": "ec72d423-8b6e-4473-929a-893b104ee6e2",
   "metadata": {},
   "outputs": [],
   "source": [
    "#pull in current barcode runs so that I do not need to maintain ALL my prior selections. \n",
    "\n",
    "barcode_runs_current = pd.read_csv('barcode_runs.csv')"
   ]
  },
  {
   "cell_type": "code",
   "execution_count": 3,
   "id": "92118ee0-f9d5-41a6-992a-17aac6f0988e",
   "metadata": {},
   "outputs": [
    {
     "data": {
      "text/html": [
       "<div>\n",
       "<style scoped>\n",
       "    .dataframe tbody tr th:only-of-type {\n",
       "        vertical-align: middle;\n",
       "    }\n",
       "\n",
       "    .dataframe tbody tr th {\n",
       "        vertical-align: top;\n",
       "    }\n",
       "\n",
       "    .dataframe thead th {\n",
       "        text-align: right;\n",
       "    }\n",
       "</style>\n",
       "<table border=\"1\" class=\"dataframe\">\n",
       "  <thead>\n",
       "    <tr style=\"text-align: right;\">\n",
       "      <th></th>\n",
       "      <th>Unnamed: 0</th>\n",
       "      <th>sample</th>\n",
       "      <th>library</th>\n",
       "      <th>date</th>\n",
       "      <th>fastq_R1</th>\n",
       "      <th>notes</th>\n",
       "    </tr>\n",
       "  </thead>\n",
       "  <tbody>\n",
       "  </tbody>\n",
       "</table>\n",
       "</div>"
      ],
      "text/plain": [
       "Empty DataFrame\n",
       "Columns: [Unnamed: 0, sample, library, date, fastq_R1, notes]\n",
       "Index: []"
      ]
     },
     "execution_count": 3,
     "metadata": {},
     "output_type": "execute_result"
    }
   ],
   "source": [
    "barcode_runs_current"
   ]
  },
  {
   "cell_type": "code",
   "execution_count": 5,
   "id": "240dec65-4290-45d5-aac4-82f1874fc316",
   "metadata": {},
   "outputs": [],
   "source": [
    "#do not overwrite barcode_runs_current. make a new copy\n",
    "\n",
    "barcode_runs_new = barcode_runs_current.copy()"
   ]
  },
  {
   "cell_type": "code",
   "execution_count": 6,
   "id": "6b1be609-e5e2-48ea-b867-167506bd535e",
   "metadata": {},
   "outputs": [
    {
     "data": {
      "text/html": [
       "<div>\n",
       "<style scoped>\n",
       "    .dataframe tbody tr th:only-of-type {\n",
       "        vertical-align: middle;\n",
       "    }\n",
       "\n",
       "    .dataframe tbody tr th {\n",
       "        vertical-align: top;\n",
       "    }\n",
       "\n",
       "    .dataframe thead th {\n",
       "        text-align: right;\n",
       "    }\n",
       "</style>\n",
       "<table border=\"1\" class=\"dataframe\">\n",
       "  <thead>\n",
       "    <tr style=\"text-align: right;\">\n",
       "      <th></th>\n",
       "      <th>Unnamed: 0</th>\n",
       "      <th>sample</th>\n",
       "      <th>library</th>\n",
       "      <th>date</th>\n",
       "      <th>fastq_R1</th>\n",
       "      <th>notes</th>\n",
       "    </tr>\n",
       "  </thead>\n",
       "  <tbody>\n",
       "  </tbody>\n",
       "</table>\n",
       "</div>"
      ],
      "text/plain": [
       "Empty DataFrame\n",
       "Columns: [Unnamed: 0, sample, library, date, fastq_R1, notes]\n",
       "Index: []"
      ]
     },
     "execution_count": 6,
     "metadata": {},
     "output_type": "execute_result"
    }
   ],
   "source": [
    "barcode_runs_new"
   ]
  },
  {
   "cell_type": "code",
   "execution_count": 14,
   "id": "6cbfb89f-1e4a-4848-8fd6-1ef7e0b25c4e",
   "metadata": {},
   "outputs": [
    {
     "name": "stdout",
     "output_type": "stream",
     "text": [
      "A-240129-rescue_1-no_antibody-1\n",
      "A-240129-rescue_1-no_antibody-2\n",
      "A-240129-rescue_1-VSVG-1\n",
      "['A-240129-rescue_1-no_antibody-1', 'A-240129-rescue_1-no_antibody-2', 'A-240129-rescue_1-VSVG-1']\n"
     ]
    }
   ],
   "source": [
    "\n",
    "#need to harcode in results directory.\n",
    "results_directory = '/shared/ngs/illumina/aaditham/240206_VH01189_231_AAFGLY3M5';\n",
    "\n",
    "\n",
    "#need to format sample names\n",
    "lib = 'A';\n",
    "date_selection = '240129'\n",
    "rescue_num='1'; \n",
    "\n",
    "#notes rescue 1 was done on 13-Jan-2024; Rescue 2 was done 18-Jan-2024.\n",
    "\n",
    "#either add string name of antibody (eg. 'RVA122'), say 'no_antibody', or 'VSVG' for VSV-G selections\n",
    "#Then add '-#' where # is the replicate number. Eg replicate 1 is '-1' and so on.\n",
    "\n",
    "conditions = ['no_antibody-1','no_antibody-2','VSVG-1'];\n",
    "\n",
    "\n",
    "#make sample names\n",
    "sample_names = []\n",
    "\n",
    "for i in conditions:\n",
    "    sample = lib+'-'+date_selection+'-'+'rescue_'+rescue_num+'-'+i;\n",
    "    print(sample)\n",
    "    sample_names.append(sample)\n",
    "\n",
    "print(sample_names)\n",
    "\n"
   ]
  },
  {
   "cell_type": "code",
   "execution_count": 10,
   "id": "15c8eb21-d8eb-41ca-a44d-8f7b4ac80380",
   "metadata": {},
   "outputs": [],
   "source": [
    "#copy-paste directories -- match order for names\n",
    "\n",
    "directories=['/shared/ngs/illumina/aaditham/240206_VH01189_231_AAFGLY3M5/Unaligned/Project_aaditham/LibA_Rep1_S1_R1_001.fastq.gz',\n",
    "             '/shared/ngs/illumina/aaditham/240206_VH01189_231_AAFGLY3M5/Unaligned/Project_aaditham/LibA_Rep2_S2_R1_001.fastq.gz',\n",
    "             '/shared/ngs/illumina/aaditham/240206_VH01189_231_AAFGLY3M5/Unaligned/Project_aaditham/LibA_VSV-G_Selection_S3_R1_001.fastq.gz'];\n",
    "\n",
    "             "
   ]
  },
  {
   "cell_type": "code",
   "execution_count": 11,
   "id": "1f1bd69e-65b8-4aa9-b559-40bca552c3fe",
   "metadata": {},
   "outputs": [],
   "source": [
    "libraries = ['A','A','A'];\n",
    "date = [20240129,20240129,20240129];\n"
   ]
  },
  {
   "cell_type": "code",
   "execution_count": 15,
   "id": "80d322ac-f363-488f-b290-0872c22a6702",
   "metadata": {},
   "outputs": [],
   "source": [
    "#update barcode_runs_new\n",
    "barcode_runs_new['sample']=sample_names;\n",
    "barcode_runs_new['library']=libraries;\n",
    "barcode_runs_new['date']= date;\n",
    "barcode_runs_new['fastq_R1']=directories;\n"
   ]
  },
  {
   "cell_type": "code",
   "execution_count": 17,
   "id": "19e926cf-7374-424a-952c-69737a770fa2",
   "metadata": {},
   "outputs": [],
   "source": [
    "#okay, so note that we should not overwrite the old barcode_runs file with just the new info. So we need to concatenate.\n",
    "\n",
    "#save barcode_runs_current as an archive in case of a mistake\n",
    "barcode_runs_current.to_csv('barcode_runs_current_240207.csv');\n",
    "\n",
    "\n",
    "dfs= [barcode_runs_current, barcode_runs_new];\n",
    "\n",
    "barcode_runs_final = pd.concat(dfs)"
   ]
  },
  {
   "cell_type": "code",
   "execution_count": 18,
   "id": "b885ef38-7da0-40ea-ae1b-7038ce326195",
   "metadata": {},
   "outputs": [
    {
     "data": {
      "text/html": [
       "<div>\n",
       "<style scoped>\n",
       "    .dataframe tbody tr th:only-of-type {\n",
       "        vertical-align: middle;\n",
       "    }\n",
       "\n",
       "    .dataframe tbody tr th {\n",
       "        vertical-align: top;\n",
       "    }\n",
       "\n",
       "    .dataframe thead th {\n",
       "        text-align: right;\n",
       "    }\n",
       "</style>\n",
       "<table border=\"1\" class=\"dataframe\">\n",
       "  <thead>\n",
       "    <tr style=\"text-align: right;\">\n",
       "      <th></th>\n",
       "      <th>Unnamed: 0</th>\n",
       "      <th>sample</th>\n",
       "      <th>library</th>\n",
       "      <th>date</th>\n",
       "      <th>fastq_R1</th>\n",
       "      <th>notes</th>\n",
       "    </tr>\n",
       "  </thead>\n",
       "  <tbody>\n",
       "    <tr>\n",
       "      <th>0</th>\n",
       "      <td>NaN</td>\n",
       "      <td>A-240129-rescue_1-no_antibody-1</td>\n",
       "      <td>A</td>\n",
       "      <td>20240129</td>\n",
       "      <td>/shared/ngs/illumina/aaditham/240206_VH01189_2...</td>\n",
       "      <td>NaN</td>\n",
       "    </tr>\n",
       "    <tr>\n",
       "      <th>1</th>\n",
       "      <td>NaN</td>\n",
       "      <td>A-240129-rescue_1-no_antibody-2</td>\n",
       "      <td>A</td>\n",
       "      <td>20240129</td>\n",
       "      <td>/shared/ngs/illumina/aaditham/240206_VH01189_2...</td>\n",
       "      <td>NaN</td>\n",
       "    </tr>\n",
       "    <tr>\n",
       "      <th>2</th>\n",
       "      <td>NaN</td>\n",
       "      <td>A-240129-rescue_1-VSVG-1</td>\n",
       "      <td>A</td>\n",
       "      <td>20240129</td>\n",
       "      <td>/shared/ngs/illumina/aaditham/240206_VH01189_2...</td>\n",
       "      <td>NaN</td>\n",
       "    </tr>\n",
       "  </tbody>\n",
       "</table>\n",
       "</div>"
      ],
      "text/plain": [
       "  Unnamed: 0                           sample library      date  \\\n",
       "0        NaN  A-240129-rescue_1-no_antibody-1       A  20240129   \n",
       "1        NaN  A-240129-rescue_1-no_antibody-2       A  20240129   \n",
       "2        NaN         A-240129-rescue_1-VSVG-1       A  20240129   \n",
       "\n",
       "                                            fastq_R1 notes  \n",
       "0  /shared/ngs/illumina/aaditham/240206_VH01189_2...   NaN  \n",
       "1  /shared/ngs/illumina/aaditham/240206_VH01189_2...   NaN  \n",
       "2  /shared/ngs/illumina/aaditham/240206_VH01189_2...   NaN  "
      ]
     },
     "execution_count": 18,
     "metadata": {},
     "output_type": "execute_result"
    }
   ],
   "source": [
    "barcode_runs_final"
   ]
  },
  {
   "cell_type": "code",
   "execution_count": 19,
   "id": "c0b2b162-437f-4280-8ecf-52bcdee13d10",
   "metadata": {},
   "outputs": [],
   "source": [
    "barcode_runs_final.to_csv('barcode_runs.csv')"
   ]
  },
  {
   "cell_type": "code",
   "execution_count": 20,
   "id": "cbb871c1-a02c-40a6-80e5-9d17ba5d7224",
   "metadata": {},
   "outputs": [
    {
     "data": {
      "text/html": [
       "<div>\n",
       "<style scoped>\n",
       "    .dataframe tbody tr th:only-of-type {\n",
       "        vertical-align: middle;\n",
       "    }\n",
       "\n",
       "    .dataframe tbody tr th {\n",
       "        vertical-align: top;\n",
       "    }\n",
       "\n",
       "    .dataframe thead th {\n",
       "        text-align: right;\n",
       "    }\n",
       "</style>\n",
       "<table border=\"1\" class=\"dataframe\">\n",
       "  <thead>\n",
       "    <tr style=\"text-align: right;\">\n",
       "      <th></th>\n",
       "      <th>Unnamed: 0</th>\n",
       "      <th>sample</th>\n",
       "      <th>library</th>\n",
       "      <th>date</th>\n",
       "      <th>fastq_R1</th>\n",
       "      <th>notes</th>\n",
       "    </tr>\n",
       "  </thead>\n",
       "  <tbody>\n",
       "    <tr>\n",
       "      <th>0</th>\n",
       "      <td>NaN</td>\n",
       "      <td>A-240129-rescue_1-no_antibody-1</td>\n",
       "      <td>A</td>\n",
       "      <td>20240129</td>\n",
       "      <td>/shared/ngs/illumina/aaditham/240206_VH01189_2...</td>\n",
       "      <td>NaN</td>\n",
       "    </tr>\n",
       "    <tr>\n",
       "      <th>1</th>\n",
       "      <td>NaN</td>\n",
       "      <td>A-240129-rescue_1-no_antibody-2</td>\n",
       "      <td>A</td>\n",
       "      <td>20240129</td>\n",
       "      <td>/shared/ngs/illumina/aaditham/240206_VH01189_2...</td>\n",
       "      <td>NaN</td>\n",
       "    </tr>\n",
       "    <tr>\n",
       "      <th>2</th>\n",
       "      <td>NaN</td>\n",
       "      <td>A-240129-rescue_1-VSVG-1</td>\n",
       "      <td>A</td>\n",
       "      <td>20240129</td>\n",
       "      <td>/shared/ngs/illumina/aaditham/240206_VH01189_2...</td>\n",
       "      <td>NaN</td>\n",
       "    </tr>\n",
       "  </tbody>\n",
       "</table>\n",
       "</div>"
      ],
      "text/plain": [
       "  Unnamed: 0                           sample library      date  \\\n",
       "0        NaN  A-240129-rescue_1-no_antibody-1       A  20240129   \n",
       "1        NaN  A-240129-rescue_1-no_antibody-2       A  20240129   \n",
       "2        NaN         A-240129-rescue_1-VSVG-1       A  20240129   \n",
       "\n",
       "                                            fastq_R1 notes  \n",
       "0  /shared/ngs/illumina/aaditham/240206_VH01189_2...   NaN  \n",
       "1  /shared/ngs/illumina/aaditham/240206_VH01189_2...   NaN  \n",
       "2  /shared/ngs/illumina/aaditham/240206_VH01189_2...   NaN  "
      ]
     },
     "execution_count": 20,
     "metadata": {},
     "output_type": "execute_result"
    }
   ],
   "source": [
    "barcode_runs_final"
   ]
  },
  {
   "cell_type": "code",
   "execution_count": null,
   "id": "1886f62d-4dfe-4f00-8957-7739da4dbc51",
   "metadata": {},
   "outputs": [],
   "source": []
  }
 ],
 "metadata": {
  "kernelspec": {
   "display_name": "Python 3 (ipykernel)",
   "language": "python",
   "name": "python3"
  },
  "language_info": {
   "codemirror_mode": {
    "name": "ipython",
    "version": 3
   },
   "file_extension": ".py",
   "mimetype": "text/x-python",
   "name": "python",
   "nbconvert_exporter": "python",
   "pygments_lexer": "ipython3",
   "version": "3.11.7"
  }
 },
 "nbformat": 4,
 "nbformat_minor": 5
}
