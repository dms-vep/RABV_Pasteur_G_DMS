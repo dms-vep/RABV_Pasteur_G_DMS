{
 "cells": [
  {
   "cell_type": "markdown",
   "id": "55eabbac-880d-48c1-a204-b741b83a4997",
   "metadata": {},
   "source": [
    "# Configure `dms-viz` JSONs"
   ]
  },
  {
   "cell_type": "markdown",
   "id": "e9647107-badd-4a39-87be-8c648de13223",
   "metadata": {},
   "source": [
    "Imports:"
   ]
  },
  {
   "cell_type": "code",
   "execution_count": null,
   "id": "a355526f-cbae-4cb3-a0ea-dbdbcaf98993",
   "metadata": {},
   "outputs": [],
   "source": [
    "import gzip\n",
    "import os\n",
    "import requests\n",
    "import subprocess\n",
    "import warnings\n",
    "\n",
    "import Bio.PDB.PDBParser\n",
    "import Bio.PDB.Polypeptide\n",
    "\n",
    "import matplotlib.colors\n",
    "\n",
    "import pandas as pd\n",
    "\n",
    "import seaborn"
   ]
  },
  {
   "cell_type": "markdown",
   "id": "513a291a-fa68-4d1d-b415-35f214ded48a",
   "metadata": {},
   "source": [
    "Get variables from `snakemake`:"
   ]
  },
  {
   "cell_type": "code",
   "execution_count": null,
   "id": "5782f1cf-9163-45c6-ad4e-ed87913e0323",
   "metadata": {
    "editable": true,
    "slideshow": {
     "slide_type": ""
    },
    "tags": []
   },
   "outputs": [],
   "source": [
    "config = snakemake.params.config\n",
    "pdb_id = config[\"pdb_id\"]\n",
    "escape_or_phenotype = config[\"escape_or_phenotype\"]\n",
    "phenotypes_list = config[\"phenotypes\"]\n",
    "antibody_list = config[\"antibodies\"]\n",
    "\n",
    "phenotypes_csv = snakemake.input.phenotypes_csv\n",
    "if escape_or_phenotype == \"escape\":\n",
    "    per_antibody_escape_csv = snakemake.input.per_antibody_escape_csv\n",
    "\n",
    "dms_viz_json = snakemake.output.json\n",
    "dms_viz_json_no_description = snakemake.output.json_no_description\n",
    "dms_viz_sitemap = snakemake.output.sitemap\n",
    "dms_viz_phenotypes = snakemake.output.phenotypes\n",
    "pdb_file = snakemake.output.pdb_file\n",
    "description_md = snakemake.output.description_md\n",
    "\n",
    "description_suffix = snakemake.params.description_suffix\n",
    "\n",
    "name = snakemake.wildcards.struct"
   ]
  },
  {
   "cell_type": "markdown",
   "id": "b06af3d1-bd4f-480c-bc83-d93d3a2c29d1",
   "metadata": {},
   "source": [
    "Build the [sitemap](https://dms-viz.github.io/dms-viz-docs/preparing-data/data-requirements/#reference-site) used by `dms-viz`:"
   ]
  },
  {
   "cell_type": "code",
   "execution_count": null,
   "id": "04035944-f7a2-4242-8475-c21f1a660542",
   "metadata": {},
   "outputs": [],
   "source": [
    "phenotypes_all = pd.read_csv(phenotypes_csv)\n",
    "\n",
    "sitemap = (\n",
    "    phenotypes_all\n",
    "    [[\"sequential_site\", \"site\", \"wildtype\"]]\n",
    "    .rename(columns={\"site\": \"reference_site\"})\n",
    "    .drop_duplicates()\n",
    "    .sort_values(\"sequential_site\")\n",
    ")\n",
    "\n",
    "assert len(sitemap) == sitemap[\"sequential_site\"].nunique() == sitemap[\"reference_site\"].nunique()\n",
    "\n",
    "sitemap.to_csv(dms_viz_sitemap, index=False)"
   ]
  },
  {
   "cell_type": "markdown",
   "id": "8ed8d69d-e75a-411d-9d53-a116669561ce",
   "metadata": {},
   "source": [
    "Get the biological assembly (see https://pdb101.rcsb.org/learn/guide-to-understanding-pdb-data/biological-assemblies#Anchor-download) in case the crystallographic unit doesn't correspond to that:"
   ]
  },
  {
   "cell_type": "code",
   "execution_count": null,
   "id": "ecad48ac-b748-4f6a-b2be-7620a19b39f6",
   "metadata": {},
   "outputs": [],
   "source": [
    "pdb_id = config[\"pdb_id\"]\n",
    "\n",
    "print(f\"Getting PDB file for {pdb_id}\")\n",
    "\n",
    "r = requests.get(f\"https://files.rcsb.org/download/{pdb_id}.pdb1.gz\")\n",
    "assert r.status_code == 200\n",
    "pdb_content = gzip.decompress(r.content).decode(\"utf-8\")\n",
    "with open(pdb_file, \"w\") as f:\n",
    "    f.write(pdb_content)"
   ]
  },
  {
   "cell_type": "markdown",
   "id": "286495d5-4b43-4861-8378-02c42c4d9765",
   "metadata": {},
   "source": [
    "Check the sites mismatched between the sitemap and the protein structure in terms of residue identity:"
   ]
  },
  {
   "cell_type": "code",
   "execution_count": null,
   "id": "af926d22-4b44-4711-aadc-4e4acce00141",
   "metadata": {},
   "outputs": [],
   "source": [
    "with warnings.catch_warnings():\n",
    "    warnings.simplefilter(\"ignore\")\n",
    "    pdb_obj = Bio.PDB.PDBParser().get_structure(id=pdb_id, file=pdb_file)[0]\n",
    "\n",
    "all_chains = [chain.id for chain in pdb_obj]\n",
    "print(f\"PDB has {all_chains=}\")\n",
    "if \"included-chains\" in config:\n",
    "    included_chains = config[\"included-chains\"]\n",
    "    print(f\"{included_chains=}\")\n",
    "    assert set(included_chains).issubset(all_chains)\n",
    "else:\n",
    "    included_chains = all_chains\n",
    "\n",
    "records = []\n",
    "for chain in included_chains:\n",
    "    for res in pdb_obj[chain].get_residues():\n",
    "        if not res.id[0].isspace():\n",
    "            continue\n",
    "        aa = Bio.PDB.Polypeptide.protein_letters_3to1[res.resname]\n",
    "        r = res.id[1]\n",
    "        records.append((chain, r, aa))\n",
    "pdb_df = pd.DataFrame(records, columns=[\"chain\", \"reference_site\", \"pdb_aa\"])\n",
    "\n",
    "mismatched_sites = sitemap.merge(pdb_df, how=\"left\")\n",
    "\n",
    "print(\n",
    "    f\"Of {len(sitemap)} sites, {len(mismatched_sites.query('wildtype == pdb_aa'))} match, \"\n",
    "    f\"{len(mismatched_sites.query('pdb_aa.isnull()'))} are missing from PDB, and \"\n",
    "    f\"{len(mismatched_sites.query('pdb_aa.notnull()').query('wildtype != pdb_aa'))} differ.\"\n",
    ")\n",
    "\n",
    "print(\"Sites that differ:\")\n",
    "display(mismatched_sites.query(\"pdb_aa.notnull() and (wildtype != pdb_aa)\").reset_index(drop=True))"
   ]
  },
  {
   "cell_type": "markdown",
   "id": "89ae0c78-287c-41ae-b8d6-e3b6727037c2",
   "metadata": {},
   "source": [
    "Process the different phenotypes and escape if relevant:"
   ]
  },
  {
   "cell_type": "code",
   "execution_count": null,
   "id": "72c8fa17-2527-43a5-89e6-49404886112b",
   "metadata": {},
   "outputs": [],
   "source": [
    "# get extra columns dealing with fact `dms-viz` does not allow them to have spaces\n",
    "extra_cols = []\n",
    "for coltype in [\"tooltip-cols\", \"filter-cols\"]:\n",
    "    for col in list(config[coltype]):\n",
    "        col_nospace = col.replace(\" \", \"_\")\n",
    "        assert (col in phenotypes_all.columns) or (col_nospace in phenotypes_all.columns), f\"no column {col} in {phenotypes_all.columns=}\"\n",
    "        if col != col_nospace:\n",
    "            assert (col_nospace not in phenotypes_all.columns) or (col not in phenotypes_all.columns)\n",
    "            assert col_nospace not in config[coltype]\n",
    "            phenotypes_all = phenotypes_all.rename(columns={col: col_nospace}, errors=\"ignore\")\n",
    "            config[coltype][col_nospace] = config[coltype][col]\n",
    "            del config[coltype][col]\n",
    "            extra_cols.append(col_nospace)\n",
    "            if coltype == \"filter-cols\":\n",
    "                if col in config[\"filter-limits\"]:\n",
    "                    config[\"filter-limits\"][col_nospace] = config[\"filter-limits\"][col]\n",
    "                    del config[\"filter-limits\"][col]\n",
    "        else:\n",
    "            extra_cols.append(col)\n",
    "print(f\"Keeping {extra_cols=} for filters and tooltips\")\n",
    "assert set(extra_cols).issubset(phenotypes_all.columns)\n",
    "\n",
    "id_cols = [\"site\", \"wildtype\", \"mutant\"]\n",
    "\n",
    "if escape_or_phenotype == \"phenotype\":\n",
    "    assert phenotypes_list and not antibody_list, f\"{phenotypes_list=}, {antibody_list=}\"\n",
    "    assert set(phenotypes_list).issubset(phenotypes_all.columns), f\"{phenotypes_list=}\\n{phenotypes_all.columns=}\"\n",
    "    metric_column = \"effect\"\n",
    "    condition_column = \"phenotype\"\n",
    "    phenotypes = (\n",
    "        phenotypes_all\n",
    "        .melt(\n",
    "            id_vars=id_cols + extra_cols,\n",
    "            value_vars=phenotypes_list,\n",
    "            var_name=condition_column,\n",
    "            value_name=metric_column,\n",
    "        )\n",
    "    )\n",
    "\n",
    "elif escape_or_phenotype == \"escape\":\n",
    "    assert not phenotypes_list\n",
    "\n",
    "    phenotypes = pd.read_csv(per_antibody_escape_csv)\n",
    "\n",
    "    antibodies_all = list(phenotypes[\"antibody\"].unique())\n",
    "    if antibody_list is not None:\n",
    "        antibodies = antibody_list\n",
    "        print(f\"Using just {antibodies=} from {antibodies_all=}\")\n",
    "        assert set(antibodies).issubset(antibodies_all), f\"{antibodies=}\\n{antibodies_all=}\"\n",
    "        assert len(antibodies) >= 1\n",
    "    else:\n",
    "        antibodies = antibodies_all\n",
    "        print(f\"Using all {antibodies=}\")\n",
    "    antibodies = antibodies\n",
    "    metric_column = \"escape\"\n",
    "    condition_column = \"antibody\"\n",
    "    phenotypes = phenotypes[id_cols + [metric_column, condition_column]]\n",
    "    phenotypes = phenotypes[phenotypes[condition_column].isin(antibodies)]\n",
    "    \n",
    "    if extra_cols:\n",
    "        join_data = phenotypes_all[id_cols + extra_cols]\n",
    "        assert len(join_data) == len(join_data.groupby(id_cols))\n",
    "        assert set(join_data.columns).intersection(phenotypes.columns) == set(id_cols)\n",
    "        phenotypes = phenotypes.merge(join_data, on=id_cols, validate=\"many_to_one\", how=\"left\")\n",
    "\n",
    "else:\n",
    "    raise ValueError(f\"invalid {escape_or_phenotype=}\")\n",
    "\n",
    "print(f\"Writing the phenotypes to {dms_viz_phenotypes}\")\n",
    "phenotypes.to_csv(dms_viz_phenotypes, index=False)\n",
    "display(phenotypes)"
   ]
  },
  {
   "cell_type": "markdown",
   "id": "641f778f-3e17-4e66-827d-d78822103ea7",
   "metadata": {},
   "source": [
    "Get enough colors:"
   ]
  },
  {
   "cell_type": "code",
   "execution_count": null,
   "id": "db6abd11-c293-4366-8d7e-80f2a1d375d2",
   "metadata": {},
   "outputs": [],
   "source": [
    "def get_hex_color_palette(num_colors):\n",
    "    colors = seaborn.color_palette(\"hls\", num_colors)\n",
    "    hex_colors = [matplotlib.colors.to_hex(color) for color in colors]\n",
    "    return hex_colors\n",
    "\n",
    "nconditions = phenotypes[condition_column].nunique()\n",
    "if nconditions > 4:\n",
    "    colors = \",\".join(get_hex_color_palette(nconditions))\n",
    "else:\n",
    "    colors = \"#0072B2,#CC79A7,#4C3549,#009E73\"\n",
    "\n",
    "print(f\"Using {colors=}\")\n",
    "seaborn.palplot(seaborn.color_palette(colors.split(\",\")))"
   ]
  },
  {
   "cell_type": "markdown",
   "id": "7d82969f-baeb-4205-8ac7-705a6e5fc265",
   "metadata": {},
   "source": [
    "Get the description:"
   ]
  },
  {
   "cell_type": "code",
   "execution_count": null,
   "id": "be8b6694-fde6-4297-86d2-4bdc6e7e57e9",
   "metadata": {},
   "outputs": [],
   "source": [
    "description_text = \"\\n\\n\".join(\n",
    "    [\n",
    "        f\"## {config['title']}\",\n",
    "        config[\"description\"] if config[\"description\"] is not None else \"\",\n",
    "        f\"Structure shown is from PDB {pdb_id}.\",\n",
    "        description_suffix,\n",
    "    ]\n",
    ").lstrip()\n",
    "\n",
    "print(description_text)\n",
    "\n",
    "with open(description_md, \"w\") as f:\n",
    "    f.write(description_text)"
   ]
  },
  {
   "cell_type": "markdown",
   "id": "ba993e6c-1c92-495f-acb0-4814ef8e4ec6",
   "metadata": {},
   "source": [
    "Now run [configure-dms-viz](https://dms-viz.github.io/dms-viz-docs/preparing-data/command-line-api/):"
   ]
  },
  {
   "cell_type": "code",
   "execution_count": null,
   "id": "2ae05c68-1554-4190-9530-885eef898a3e",
   "metadata": {
    "scrolled": true
   },
   "outputs": [],
   "source": [
    "cmds = [\n",
    "    \"configure-dms-viz\", \"format\",\n",
    "    \"--name\", name,\n",
    "    \"--input\", dms_viz_phenotypes,\n",
    "    \"--output\", dms_viz_json_no_description,\n",
    "    \"--structure\", pdb_file,\n",
    "    \"--metric\", metric_column,\n",
    "    \"--condition\", condition_column,\n",
    "    \"--sitemap\", dms_viz_sitemap,\n",
    "    \"--colors\", colors,\n",
    "]\n",
    "\n",
    "for col in [\n",
    "    \"included-chains\",\n",
    "    \"excluded-chains\",\n",
    "]:\n",
    "    val = config[col]\n",
    "    if val:\n",
    "        cmds += [f\"--{col}\", \" \".join(val)]\n",
    "\n",
    "if config[\"heatmap-limits\"]:\n",
    "    cmds += [\"--heatmap-limits\", \", \".join(str(x) for x in config[\"heatmap-limits\"])]\n",
    "\n",
    "for col in [\n",
    "    \"alphabet\",\n",
    "    \"floor\",\n",
    "    \"summary-stat\",\n",
    "    \"tooltip-cols\",\n",
    "    \"filter-cols\",\n",
    "    \"filter-limits\",\n",
    "    \"title\",\n",
    "    \"description\",\n",
    "]:\n",
    "    cmds += [f\"--{col}\", str(config[col])]\n",
    "\n",
    "print(f\"Running the following commands:\\n{cmds}\")\n",
    "subprocess.run(cmds, check=True)\n",
    "\n",
    "cmds_join = [\n",
    "    \"configure-dms-viz\", \"join\",\n",
    "    \"--input\", dms_viz_json_no_description,\n",
    "    \"--description\", description_md,\n",
    "    \"--output\", dms_viz_json,\n",
    "]\n",
    "\n",
    "print(f\"Running the following commands:\\n{cmds_join}\")\n",
    "subprocess.run(cmds_join, check=True)"
   ]
  },
  {
   "cell_type": "code",
   "execution_count": null,
   "id": "bbb99615-c029-4d53-b3a7-447af7c0472a",
   "metadata": {},
   "outputs": [],
   "source": []
  }
 ],
 "metadata": {
  "kernelspec": {
   "display_name": "Python 3 (ipykernel)",
   "language": "python",
   "name": "python3"
  },
  "language_info": {
   "codemirror_mode": {
    "name": "ipython",
    "version": 3
   },
   "file_extension": ".py",
   "mimetype": "text/x-python",
   "name": "python",
   "nbconvert_exporter": "python",
   "pygments_lexer": "ipython3",
   "version": "3.11.9"
  }
 },
 "nbformat": 4,
 "nbformat_minor": 5
}
