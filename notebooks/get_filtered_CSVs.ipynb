{
 "cells": [
  {
   "cell_type": "markdown",
   "id": "ac029f71-4483-4ba5-9159-fbf9f7e5d54a",
   "metadata": {
    "editable": true,
    "slideshow": {
     "slide_type": ""
    },
    "tags": []
   },
   "source": [
    "# Created filtered CSVs"
   ]
  },
  {
   "cell_type": "code",
   "execution_count": 1,
   "id": "d025c5ed-b718-4bd1-bcfb-ec2faef74edf",
   "metadata": {},
   "outputs": [],
   "source": [
    "# Imports \n",
    "import os\n",
    "import yaml\n",
    "import warnings\n",
    "import pandas as pd"
   ]
  },
  {
   "cell_type": "markdown",
   "id": "9a18bf17-5216-4f56-acf7-c467234b6a31",
   "metadata": {},
   "source": [
    "File paths for data:"
   ]
  },
  {
   "cell_type": "code",
   "execution_count": 2,
   "id": "d4977676-5585-4a8b-bfbc-265d8f9f3d5f",
   "metadata": {
    "editable": true,
    "slideshow": {
     "slide_type": ""
    },
    "tags": [
     "parameters"
    ]
   },
   "outputs": [],
   "source": [
    "# this cell is tagged as `parameters` for papermill parameterization\n",
    "func_effects = None\n",
    "func_effects_config = None\n",
    "site_numbering_map = None\n",
    "\n",
    "antibody_escape_dir = None\n",
    "antibody_escape_config = None\n",
    "\n",
    "filtered_antibody_csv_dir = None\n",
    "filtered_func_csv_dir = None\n",
    "filtered_func_effects = None"
   ]
  },
  {
   "cell_type": "code",
   "execution_count": 3,
   "id": "73559e17-a33a-4cb0-94c6-a71a097f5bb7",
   "metadata": {
    "editable": true,
    "slideshow": {
     "slide_type": ""
    },
    "tags": []
   },
   "outputs": [],
   "source": [
    "# # Uncomment for running interactive\n",
    "# func_effects = \"../results/func_effects/averages/HEK293T_entry_func_effects.csv\"\n",
    "# func_effects_config = \"../data/func_effects_config.yml\"\n",
    "# site_numbering_map = \"../data/site_numbering_map.csv\"\n",
    "\n",
    "# antibody_escape_dir = \"../results/antibody_escape/averages/\"\n",
    "# antibody_escape_config = \"../data/antibody_escape_config.yml\"\n",
    "\n",
    "# filtered_antibody_csv_dir = \"../results/filtered_antibody_escape_CSVs/\"\n",
    "# filtered_func_csv_dir = \"../results/filtered_func_effects_CSV/\"\n",
    "# filtered_func_effects = \"../results/filtered_func_effects_CSV/HEK293T_filitered_entry_func_effects.csv\""
   ]
  },
  {
   "cell_type": "markdown",
   "id": "3eb5b767-cd0c-419a-ba8c-a2c9a10ce5a4",
   "metadata": {},
   "source": [
    "Get filtered CSV for antibody escape"
   ]
  },
  {
   "cell_type": "code",
   "execution_count": 4,
   "id": "698138a5-1cb7-419f-819a-0c1eb76c6f58",
   "metadata": {
    "editable": true,
    "slideshow": {
     "slide_type": ""
    },
    "tags": []
   },
   "outputs": [
    {
     "name": "stdout",
     "output_type": "stream",
     "text": [
      "Parameters to filter antibody escape data by:\n",
      "Minimum models default: 2\n",
      "Minimum cell entry: -5\n",
      "Minimum times seen: 2\n",
      "Maximum STDEV: 4\n",
      "Escape score metric: median\n"
     ]
    }
   ],
   "source": [
    "# Load config file and extract params\n",
    "with open(antibody_escape_config) as f:\n",
    "    antibody_config = yaml.safe_load(f)\n",
    "\n",
    "print(\"Parameters to filter antibody escape data by:\")\n",
    "min_models = antibody_config[\"plot_hide_stats_default\"][\"functional effect\"][\"min_filters\"][\"times_seen\"]\n",
    "print(f\"Minimum models default: {min_models}\")\n",
    "cell_entry_default = antibody_config[\"plot_hide_stats_default\"][\"functional effect\"][\"init\"]\n",
    "print(f\"Minimum cell entry: {cell_entry_default}\")\n",
    "times_seen = antibody_config[\"avg_escape_plot_kwargs_default\"][\"addtl_slider_stats\"][\"times_seen\"]\n",
    "print(f\"Minimum times seen: {times_seen}\")\n",
    "std = antibody_config[\"avg_escape_plot_kwargs_default\"][\"addtl_slider_stats\"][\"escape_std\"]\n",
    "print(f\"Maximum STDEV: {std}\")\n",
    "escape_metric = antibody_config[\"avg_escape_plot_kwargs_default\"][\"avg_type\"]\n",
    "print(f\"Escape score metric: {escape_metric}\")\n",
    "\n",
    "# Load site map\n",
    "site_map = (\n",
    "    pd.read_csv(site_numbering_map)\n",
    "    .rename(columns={\n",
    "        \"reference_site\" : \"site\",\n",
    "    })\n",
    ")"
   ]
  },
  {
   "cell_type": "code",
   "execution_count": 5,
   "id": "00206fec-1944-4ea3-9f19-a036eaae041d",
   "metadata": {
    "editable": true,
    "slideshow": {
     "slide_type": ""
    },
    "tags": []
   },
   "outputs": [],
   "source": [
    "def get_filtered_csv(\n",
    "    antibody_name,  \n",
    "    func_effects_file, \n",
    "    min_times_seen, \n",
    "    min_func_score,  \n",
    "    min_models,\n",
    "    max_std,\n",
    "    escape_metric,\n",
    "    site_map,\n",
    "    filtered_file_dir = None,\n",
    "):\n",
    "    \"\"\"\n",
    "    Function that filters and writes an antibody escape csv.\n",
    "    \"\"\"\n",
    "\n",
    "    # Load data\n",
    "    escape_df = pd.read_csv(antibody_escape_dir+antibody_name+\"_mut_effect.csv\")\n",
    "    func_effects = pd.read_csv(func_effects_file)\n",
    "\n",
    "    # Create mutation column to match antibody df\n",
    "    # **\n",
    "    # Pipeline does not filter functional scores \n",
    "    # prior to filtering antibody selections\n",
    "    # **\n",
    "    func_effects[\"site\"] = func_effects[\"site\"].astype(str)\n",
    "    func_effects[\"mutation\"] = func_effects[\"wildtype\"] + func_effects[\"site\"] + func_effects[\"mutant\"]\n",
    "    func_scores_filter = func_effects.loc[func_effects[\"effect\"] >= min_func_score][\"mutation\"].tolist()\n",
    "\n",
    "    # Filter escape df for min times seen\n",
    "    # min fraction of models, and no stop codons\n",
    "    escape_col = \"escape_\" + escape_metric\n",
    "    escape_df = (\n",
    "        escape_df.loc[\n",
    "            (escape_df[\"times_seen\"] >= min_times_seen)\n",
    "            &\n",
    "            (escape_df[\"n_models\"] >= min_models)\n",
    "            &\n",
    "            (escape_df[\"mutant\"] != \"*\")\n",
    "            &\n",
    "            (escape_df[\"escape_std\"] <= std)\n",
    "        ]\n",
    "        .rename(columns={escape_col : \"escape\"})\n",
    "        .reset_index(drop=True)\n",
    "    )\n",
    "\n",
    "    # Merge site map\n",
    "    escape_df = (\n",
    "        escape_df.merge(\n",
    "            site_map,\n",
    "            how=\"left\",\n",
    "            on=[\"site\"],\n",
    "            validate=\"many_to_one\",\n",
    "        )\n",
    "    )\n",
    "\n",
    "    # Natural sequence mutation\n",
    "    escape_df[\"natural_sequence_mutation\"] = (\n",
    "        escape_df[\"wildtype\"] + escape_df[\"natural_sequence_site\"].astype(str) + escape_df[\"mutant\"]\n",
    "    )\n",
    "\n",
    "    # Drop all but a few columns\n",
    "    escape_df = escape_df[[\n",
    "            \"site\",\n",
    "            \"natural_sequence_site\",\n",
    "            \"sequential_site\",\n",
    "            \"wildtype\", \n",
    "            \"mutant\", \n",
    "            \"mutation\", \n",
    "            \"natural_sequence_mutation\",\n",
    "            \"escape\",\n",
    "    ]]\n",
    "\n",
    "    # Mark mutations that are below functional cutoff\n",
    "    # and replace measurements with NaN\n",
    "    escape_df[\"poor_cell_entry\"] = (\n",
    "        escape_df[\"mutation\"].apply(lambda x: False if x in func_scores_filter else True)\n",
    "    )\n",
    "    escape_df[\"escape\"] = (\n",
    "        escape_df.apply(lambda x: float(\"NaN\") if (x[\"poor_cell_entry\"] == True) else x[\"escape\"], axis=1)\n",
    "    )\n",
    "\n",
    "    # Create a floored escape column\n",
    "    escape_df[\"floored_escape\"] = escape_df[\"escape\"].clip(lower=0)\n",
    "\n",
    "    # Write filtered escape to csv\n",
    "    if filtered_file_dir != None:\n",
    "        escape_df.to_csv(filtered_file_dir+antibody_name+\"_filtered_mut_effects.csv\", index=False)"
   ]
  },
  {
   "cell_type": "code",
   "execution_count": 6,
   "id": "6d9940aa-2da0-4c76-8372-24ccd959be65",
   "metadata": {
    "editable": true,
    "slideshow": {
     "slide_type": ""
    },
    "tags": []
   },
   "outputs": [],
   "source": [
    "antibodies = [\n",
    "    \"RVC20\",\n",
    "    \"RVA122\",\n",
    "    \"17C7\",\n",
    "    \"RVC58\",\n",
    "    \"CR4098\",\n",
    "    \"CR57\",\n",
    "    \"CTB012\",\n",
    "    \"RVC68\",\n",
    "]\n",
    "\n",
    "for antibody in antibodies:\n",
    "\n",
    "    # Make output dir if doesn't exist\n",
    "    if not os.path.exists(filtered_antibody_csv_dir):\n",
    "        os.mkdir(filtered_antibody_csv_dir)\n",
    "    \n",
    "    get_filtered_csv(\n",
    "        antibody,\n",
    "        func_effects,\n",
    "        times_seen,\n",
    "        cell_entry_default,\n",
    "        min_models,\n",
    "        std,\n",
    "        escape_metric,\n",
    "        site_map,\n",
    "        filtered_file_dir = filtered_antibody_csv_dir,\n",
    "    )"
   ]
  },
  {
   "cell_type": "markdown",
   "id": "696f1dcc-dce3-46df-aa86-0899bc13f4e3",
   "metadata": {},
   "source": [
    "Get filtered CSV for functional effects"
   ]
  },
  {
   "cell_type": "code",
   "execution_count": 7,
   "id": "e09846be-a2ac-4221-9c83-a0f3ce2bdf38",
   "metadata": {},
   "outputs": [
    {
     "name": "stdout",
     "output_type": "stream",
     "text": [
      "Parameters to filter functional effects data by:\n",
      "Minimum times seen: 2\n"
     ]
    }
   ],
   "source": [
    "# Load config file and extract params\n",
    "with open(func_effects_config) as f:\n",
    "    config = yaml.safe_load(f)\n",
    "print(\"Parameters to filter functional effects data by:\")\n",
    "min_times_seen = config[\"avg_func_effect_shifts_default\"][\"plot_kwargs\"][\"addtl_slider_stats\"][\"times_seen\"]\n",
    "print(f\"Minimum times seen: {min_times_seen}\")\n",
    "\n",
    "# Read CSV file\n",
    "func_scores = pd.read_csv(func_effects)\n",
    "\n",
    "# Merge site map\n",
    "func_scores = (\n",
    "    func_scores.merge(\n",
    "        site_map,\n",
    "        how=\"left\",\n",
    "        on=[\"site\"],\n",
    "        validate=\"many_to_one\",\n",
    "    )\n",
    ")\n",
    "\n",
    "# Natural sequence mutation\n",
    "func_scores[\"natural_sequence_mutation\"] = (\n",
    "    func_scores[\"wildtype\"] + func_scores[\"natural_sequence_site\"].astype(str) + func_scores[\"mutant\"]\n",
    ")\n",
    "\n",
    "# Filter for minimum selections, times seen\n",
    "func_scores = (\n",
    "    func_scores.loc[\n",
    "        (\n",
    "            (func_scores[\"times_seen\"] >= min_times_seen)\n",
    "        )\n",
    "        |\n",
    "        (func_scores[\"wildtype\"] == func_scores[\"mutant\"])\n",
    "    ]\n",
    "    .drop(columns=[\n",
    "        \"effect_std\",\n",
    "        \"sequential_wt\",\n",
    "        \"reference_wt\",\n",
    "        \"times_seen\",\n",
    "        \"n_selections\",\n",
    "    ])\n",
    "    .reset_index(drop=True)\n",
    ")\n",
    "\n",
    "# Make output dir if doesn't exist\n",
    "if not os.path.exists(filtered_func_csv_dir):\n",
    "    os.mkdir(filtered_func_csv_dir)\n",
    "\n",
    "# Save CSV file\n",
    "func_scores.to_csv(filtered_func_effects, index=False)"
   ]
  }
 ],
 "metadata": {
  "kernelspec": {
   "display_name": "Python 3 (ipykernel)",
   "language": "python",
   "name": "python3"
  },
  "language_info": {
   "codemirror_mode": {
    "name": "ipython",
    "version": 3
   },
   "file_extension": ".py",
   "mimetype": "text/x-python",
   "name": "python",
   "nbconvert_exporter": "python",
   "pygments_lexer": "ipython3",
   "version": "3.11.9"
  }
 },
 "nbformat": 4,
 "nbformat_minor": 5
}
