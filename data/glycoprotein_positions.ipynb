{
 "cells": [
  {
   "cell_type": "code",
   "execution_count": 1,
   "id": "b44b04d1-7168-408e-8030-2542a92a04ef",
   "metadata": {
    "tags": []
   },
   "outputs": [],
   "source": [
    "import numpy as np\n",
    "import pandas as pd\n"
   ]
  },
  {
   "cell_type": "code",
   "execution_count": 3,
   "id": "c0caf8ce-7cc2-4965-b39a-a39af27a1b08",
   "metadata": {
    "tags": []
   },
   "outputs": [],
   "source": [
    "#calculate positions of wildtype amino acids in RABV-G\n",
    "\n",
    "seq='MVPQALLFVPLLVFPLCFGKFPIYTIPDKLGPWSPIDIHHLSCPNNLVVEDEGCTNLSGFSYMELKVGYISAIKMNGFTCTGVVTEAETYTNFVGYVTTTFKRKHFRPTPDACRAAYNWKMAGDPRYEESLHNPYPDYHWLRTVKTTKESLVIISPSVADLDPYDRSLHSRVFPGGNCSGVAVSSTYCSTNHDYTIWMPENPRLGMSCDIFTNSRGKRASKGSETCGFVDERGLYKSLKGACKLKLCGVLGLRLMDGTWVAMQTSNETKWCPPGQLVNLHDFRSDEIEHLVVEELVKKREECLDALESIMTTKSVSFRRLSHLRKLVPGFGKAYTIFNKTLMEADAHYKSVRTWNEIIPSKGCLRVGGRCHPHVNGVFFNGIILGPDGNVLIPEMQSSLLQQHMELLVSSVIPLMHPLADPSTVFKNGDEAEDFVEVHLPDVHERISGVDLGLPNWGKYVLLSAGALTALMLIIFLMTCWRRVNRSEPTQHNLRGTGREVSVTPQSGKIISSWESYKSGGETGL*';\n",
    "\n",
    "\n",
    "numbering = np.arange(1,len(seq)+1,1)"
   ]
  },
  {
   "cell_type": "code",
   "execution_count": 4,
   "id": "531038cb-15de-49eb-b69a-03ec6da04055",
   "metadata": {
    "tags": []
   },
   "outputs": [],
   "source": [
    "seq_array = list(seq)"
   ]
  },
  {
   "cell_type": "code",
   "execution_count": 5,
   "id": "a0b4f2c1-97c5-4e3d-a5b1-c3554761a9dc",
   "metadata": {
    "tags": []
   },
   "outputs": [],
   "source": [
    "sequence_dataframe=pd.DataFrame(columns=['sequential_site','sequential_wt','reference_site','reference_wt','region'])\n",
    "\n",
    "sequence_dataframe['sequential_site']=numbering\n",
    "sequence_dataframe['reference_site']=numbering\n",
    "\n",
    "sequence_dataframe['sequential_wt']=seq_array;\n",
    "sequence_dataframe['reference_wt']=seq_array;"
   ]
  },
  {
   "cell_type": "code",
   "execution_count": 6,
   "id": "c33724ce-e966-438c-a6cf-11914739eaec",
   "metadata": {
    "tags": []
   },
   "outputs": [
    {
     "data": {
      "text/html": [
       "<div>\n",
       "<style scoped>\n",
       "    .dataframe tbody tr th:only-of-type {\n",
       "        vertical-align: middle;\n",
       "    }\n",
       "\n",
       "    .dataframe tbody tr th {\n",
       "        vertical-align: top;\n",
       "    }\n",
       "\n",
       "    .dataframe thead th {\n",
       "        text-align: right;\n",
       "    }\n",
       "</style>\n",
       "<table border=\"1\" class=\"dataframe\">\n",
       "  <thead>\n",
       "    <tr style=\"text-align: right;\">\n",
       "      <th></th>\n",
       "      <th>sequential_site</th>\n",
       "      <th>sequential_wt</th>\n",
       "      <th>reference_site</th>\n",
       "      <th>reference_wt</th>\n",
       "      <th>region</th>\n",
       "    </tr>\n",
       "  </thead>\n",
       "  <tbody>\n",
       "    <tr>\n",
       "      <th>0</th>\n",
       "      <td>1</td>\n",
       "      <td>M</td>\n",
       "      <td>1</td>\n",
       "      <td>M</td>\n",
       "      <td>NaN</td>\n",
       "    </tr>\n",
       "    <tr>\n",
       "      <th>1</th>\n",
       "      <td>2</td>\n",
       "      <td>V</td>\n",
       "      <td>2</td>\n",
       "      <td>V</td>\n",
       "      <td>NaN</td>\n",
       "    </tr>\n",
       "    <tr>\n",
       "      <th>2</th>\n",
       "      <td>3</td>\n",
       "      <td>P</td>\n",
       "      <td>3</td>\n",
       "      <td>P</td>\n",
       "      <td>NaN</td>\n",
       "    </tr>\n",
       "    <tr>\n",
       "      <th>3</th>\n",
       "      <td>4</td>\n",
       "      <td>Q</td>\n",
       "      <td>4</td>\n",
       "      <td>Q</td>\n",
       "      <td>NaN</td>\n",
       "    </tr>\n",
       "    <tr>\n",
       "      <th>4</th>\n",
       "      <td>5</td>\n",
       "      <td>A</td>\n",
       "      <td>5</td>\n",
       "      <td>A</td>\n",
       "      <td>NaN</td>\n",
       "    </tr>\n",
       "    <tr>\n",
       "      <th>...</th>\n",
       "      <td>...</td>\n",
       "      <td>...</td>\n",
       "      <td>...</td>\n",
       "      <td>...</td>\n",
       "      <td>...</td>\n",
       "    </tr>\n",
       "    <tr>\n",
       "      <th>520</th>\n",
       "      <td>521</td>\n",
       "      <td>E</td>\n",
       "      <td>521</td>\n",
       "      <td>E</td>\n",
       "      <td>NaN</td>\n",
       "    </tr>\n",
       "    <tr>\n",
       "      <th>521</th>\n",
       "      <td>522</td>\n",
       "      <td>T</td>\n",
       "      <td>522</td>\n",
       "      <td>T</td>\n",
       "      <td>NaN</td>\n",
       "    </tr>\n",
       "    <tr>\n",
       "      <th>522</th>\n",
       "      <td>523</td>\n",
       "      <td>G</td>\n",
       "      <td>523</td>\n",
       "      <td>G</td>\n",
       "      <td>NaN</td>\n",
       "    </tr>\n",
       "    <tr>\n",
       "      <th>523</th>\n",
       "      <td>524</td>\n",
       "      <td>L</td>\n",
       "      <td>524</td>\n",
       "      <td>L</td>\n",
       "      <td>NaN</td>\n",
       "    </tr>\n",
       "    <tr>\n",
       "      <th>524</th>\n",
       "      <td>525</td>\n",
       "      <td>*</td>\n",
       "      <td>525</td>\n",
       "      <td>*</td>\n",
       "      <td>NaN</td>\n",
       "    </tr>\n",
       "  </tbody>\n",
       "</table>\n",
       "<p>525 rows × 5 columns</p>\n",
       "</div>"
      ],
      "text/plain": [
       "     sequential_site sequential_wt  reference_site reference_wt region\n",
       "0                  1             M               1            M    NaN\n",
       "1                  2             V               2            V    NaN\n",
       "2                  3             P               3            P    NaN\n",
       "3                  4             Q               4            Q    NaN\n",
       "4                  5             A               5            A    NaN\n",
       "..               ...           ...             ...          ...    ...\n",
       "520              521             E             521            E    NaN\n",
       "521              522             T             522            T    NaN\n",
       "522              523             G             523            G    NaN\n",
       "523              524             L             524            L    NaN\n",
       "524              525             *             525            *    NaN\n",
       "\n",
       "[525 rows x 5 columns]"
      ]
     },
     "execution_count": 6,
     "metadata": {},
     "output_type": "execute_result"
    }
   ],
   "source": [
    "sequence_dataframe"
   ]
  },
  {
   "cell_type": "code",
   "execution_count": 7,
   "id": "a6245cb8-6cd2-434f-8796-2eaf0d3d60bf",
   "metadata": {
    "tags": []
   },
   "outputs": [],
   "source": [
    "sequence_dataframe.to_csv('site_numbering_map.csv');"
   ]
  },
  {
   "cell_type": "code",
   "execution_count": 9,
   "id": "50f68e91-5310-40af-8beb-400080883aa1",
   "metadata": {
    "tags": []
   },
   "outputs": [],
   "source": [
    "pacbio_dataframe=pd.DataFrame(columns=['library','run','fastq'])\n",
    "\n",
    "library = ['A','B'];\n",
    "run = ['A_220124','B_220124'];\n",
    "fastq=['/fh/fast/bloom_j/computational_notebooks/aaditham/2024/RABV_Pasteur_G_DMS/data/m64272e_240201_182146.hifi_reads.bc2083--bc2083.fastq',\n",
    "       '/fh/fast/bloom_j/computational_notebooks/aaditham/2024/RABV_Pasteur_G_DMS/data/m64272e_240203_003328.hifi_reads.bc2084--bc2084.fastq'];\n",
    "       "
   ]
  },
  {
   "cell_type": "code",
   "execution_count": 10,
   "id": "8585fd95-cd68-4bac-8d9d-4f0c2e7f7b54",
   "metadata": {
    "tags": []
   },
   "outputs": [],
   "source": [
    "pacbio_dataframe['library']=library;\n",
    "pacbio_dataframe['run']=run;\n",
    "pacbio_dataframe['fastq']=fastq;"
   ]
  },
  {
   "cell_type": "code",
   "execution_count": 11,
   "id": "fad89924-9b5c-434d-a3b8-94383b80f65c",
   "metadata": {
    "tags": []
   },
   "outputs": [
    {
     "data": {
      "text/html": [
       "<div>\n",
       "<style scoped>\n",
       "    .dataframe tbody tr th:only-of-type {\n",
       "        vertical-align: middle;\n",
       "    }\n",
       "\n",
       "    .dataframe tbody tr th {\n",
       "        vertical-align: top;\n",
       "    }\n",
       "\n",
       "    .dataframe thead th {\n",
       "        text-align: right;\n",
       "    }\n",
       "</style>\n",
       "<table border=\"1\" class=\"dataframe\">\n",
       "  <thead>\n",
       "    <tr style=\"text-align: right;\">\n",
       "      <th></th>\n",
       "      <th>library</th>\n",
       "      <th>run</th>\n",
       "      <th>fastq</th>\n",
       "    </tr>\n",
       "  </thead>\n",
       "  <tbody>\n",
       "    <tr>\n",
       "      <th>0</th>\n",
       "      <td>A</td>\n",
       "      <td>A_220124</td>\n",
       "      <td>/fh/fast/bloom_j/computational_notebooks/aadit...</td>\n",
       "    </tr>\n",
       "    <tr>\n",
       "      <th>1</th>\n",
       "      <td>B</td>\n",
       "      <td>B_220124</td>\n",
       "      <td>/fh/fast/bloom_j/computational_notebooks/aadit...</td>\n",
       "    </tr>\n",
       "  </tbody>\n",
       "</table>\n",
       "</div>"
      ],
      "text/plain": [
       "  library       run                                              fastq\n",
       "0       A  A_220124  /fh/fast/bloom_j/computational_notebooks/aadit...\n",
       "1       B  B_220124  /fh/fast/bloom_j/computational_notebooks/aadit..."
      ]
     },
     "execution_count": 11,
     "metadata": {},
     "output_type": "execute_result"
    }
   ],
   "source": [
    "pacbio_dataframe"
   ]
  },
  {
   "cell_type": "code",
   "execution_count": 12,
   "id": "e3c28fa4-0408-4a09-97a9-6c9a932af7c3",
   "metadata": {
    "tags": []
   },
   "outputs": [],
   "source": [
    "pacbio_dataframe.to_csv('PacBio_runs.csv');\n",
    "pacbio_dataframe.to_csv('pacbio_runs.csv');"
   ]
  },
  {
   "cell_type": "code",
   "execution_count": 6,
   "id": "ec1c89e5-7576-4c47-99df-617386e22a6d",
   "metadata": {},
   "outputs": [],
   "source": [
    "#generate blank barcode runs file (dummy)\n",
    "\n",
    "barcode_runs_df = pacbio_dataframe=pd.DataFrame(columns=['sample','library','date','fastq_R1','notes'])\n"
   ]
  },
  {
   "cell_type": "code",
   "execution_count": 8,
   "id": "914bdb1d-6165-448e-8fd1-2654ffcf948f",
   "metadata": {
    "tags": []
   },
   "outputs": [],
   "source": [
    "barcode_runs_df.to_csv('barcode_runs.csv')"
   ]
  },
  {
   "cell_type": "code",
   "execution_count": 15,
   "id": "4b46136f-95e9-4013-beed-2d2586241a63",
   "metadata": {
    "tags": []
   },
   "outputs": [],
   "source": [
    "#add neturalization standard barcodes\n",
    "\n",
    "neut_std_barcodes = pd.DataFrame(columns=['barcode','name']);\n",
    "\n",
    "barcodes = ['GTGCAGTAGTAAAGTA','TACGTCGCAATGGTCC','CCATCTAGTGGCTAGG','AGTAGACTCCCTCCAT','CGTGGCGTTTACACTA','GCGATTCACGCGTTGG','TACCCATGGATACGAT','ATATAGACACGTGACC'];\n",
    "name = ['neut_standard','neut_standard','neut_standard','neut_standard','neut_standard','neut_standard','neut_standard','neut_standard'];\n",
    "\n",
    "\n",
    "neut_std_barcodes['barcode']=barcodes;\n",
    "neut_std_barcodes['name']=name;\n",
    "\n"
   ]
  },
  {
   "cell_type": "code",
   "execution_count": 16,
   "id": "d481be8a-4992-48f4-b970-de058d8285a3",
   "metadata": {
    "tags": []
   },
   "outputs": [
    {
     "data": {
      "text/html": [
       "<div>\n",
       "<style scoped>\n",
       "    .dataframe tbody tr th:only-of-type {\n",
       "        vertical-align: middle;\n",
       "    }\n",
       "\n",
       "    .dataframe tbody tr th {\n",
       "        vertical-align: top;\n",
       "    }\n",
       "\n",
       "    .dataframe thead th {\n",
       "        text-align: right;\n",
       "    }\n",
       "</style>\n",
       "<table border=\"1\" class=\"dataframe\">\n",
       "  <thead>\n",
       "    <tr style=\"text-align: right;\">\n",
       "      <th></th>\n",
       "      <th>barcode</th>\n",
       "      <th>name</th>\n",
       "    </tr>\n",
       "  </thead>\n",
       "  <tbody>\n",
       "    <tr>\n",
       "      <th>0</th>\n",
       "      <td>GTGCAGTAGTAAAGTA</td>\n",
       "      <td>neut_standard</td>\n",
       "    </tr>\n",
       "    <tr>\n",
       "      <th>1</th>\n",
       "      <td>TACGTCGCAATGGTCC</td>\n",
       "      <td>neut_standard</td>\n",
       "    </tr>\n",
       "    <tr>\n",
       "      <th>2</th>\n",
       "      <td>CCATCTAGTGGCTAGG</td>\n",
       "      <td>neut_standard</td>\n",
       "    </tr>\n",
       "    <tr>\n",
       "      <th>3</th>\n",
       "      <td>AGTAGACTCCCTCCAT</td>\n",
       "      <td>neut_standard</td>\n",
       "    </tr>\n",
       "    <tr>\n",
       "      <th>4</th>\n",
       "      <td>CGTGGCGTTTACACTA</td>\n",
       "      <td>neut_standard</td>\n",
       "    </tr>\n",
       "    <tr>\n",
       "      <th>5</th>\n",
       "      <td>GCGATTCACGCGTTGG</td>\n",
       "      <td>neut_standard</td>\n",
       "    </tr>\n",
       "    <tr>\n",
       "      <th>6</th>\n",
       "      <td>TACCCATGGATACGAT</td>\n",
       "      <td>neut_standard</td>\n",
       "    </tr>\n",
       "    <tr>\n",
       "      <th>7</th>\n",
       "      <td>ATATAGACACGTGACC</td>\n",
       "      <td>neut_standard</td>\n",
       "    </tr>\n",
       "  </tbody>\n",
       "</table>\n",
       "</div>"
      ],
      "text/plain": [
       "            barcode           name\n",
       "0  GTGCAGTAGTAAAGTA  neut_standard\n",
       "1  TACGTCGCAATGGTCC  neut_standard\n",
       "2  CCATCTAGTGGCTAGG  neut_standard\n",
       "3  AGTAGACTCCCTCCAT  neut_standard\n",
       "4  CGTGGCGTTTACACTA  neut_standard\n",
       "5  GCGATTCACGCGTTGG  neut_standard\n",
       "6  TACCCATGGATACGAT  neut_standard\n",
       "7  ATATAGACACGTGACC  neut_standard"
      ]
     },
     "execution_count": 16,
     "metadata": {},
     "output_type": "execute_result"
    }
   ],
   "source": [
    "neut_std_barcodes"
   ]
  },
  {
   "cell_type": "code",
   "execution_count": 17,
   "id": "280e7bbe-608f-4be4-9bb5-1bbcb8187eee",
   "metadata": {
    "tags": []
   },
   "outputs": [],
   "source": [
    "neut_std_barcodes.to_csv('neutralization_standard_barcodes.csv');"
   ]
  },
  {
   "cell_type": "code",
   "execution_count": null,
   "id": "8f2a7d32-b9c2-4bf2-99eb-dceac7e4df7f",
   "metadata": {},
   "outputs": [],
   "source": [
    "barcode\tname\n",
    "GTGCAGTAGTAAAGTA\tneut_standard\n",
    "TACGTCGCAATGGTCC\tneut_standard\n",
    "CCATCTAGTGGCTAGG\tneut_standard\n",
    "AGTAGACTCCCTCCAT\tneut_standard\n",
    "CGTGGCGTTTACACTA\tneut_standard\n",
    "GCGATTCACGCGTTGG\tneut_standard\n",
    "TACCCATGGATACGAT\tneut_standard\n",
    "ATATAGACACGTGACC\tneut_standard"
   ]
  },
  {
   "cell_type": "code",
   "execution_count": 73,
   "id": "97c7f37c-e77d-407e-a6ad-55429f61123d",
   "metadata": {
    "tags": []
   },
   "outputs": [],
   "source": [
    "#make designed mutations file\n",
    "\n",
    "seq='MVPQALLFVPLLVFPLCFGKFPIYTIPDKLGPWSPIDIHHLSCPNNLVVEDEGCTNLSGFSYMELKVGYISAIKMNGFTCTGVVTEAETYTNFVGYVTTTFKRKHFRPTPDACRAAYNWKMAGDPRYEESLHNPYPDYHWLRTVKTTKESLVIISPSVADLDPYDRSLHSRVFPGGNCSGVAVSSTYCSTNHDYTIWMPENPRLGMSCDIFTNSRGKRASKGSETCGFVDERGLYKSLKGACKLKLCGVLGLRLMDGTWVAMQTSNETKWCPPGQLVNLHDFRSDEIEHLVVEELVKKREECLDALESIMTTKSVSFRRLSHLRKLVPGFGKAYTIFNKTLMEADAHYKSVRTWNEIIPSKGCLRVGGRCHPHVNGVFFNGIILGPDGNVLIPEMQSSLLQQHMELLVSSVIPLMHPLADPSTVFKNGDEAEDFVEVHLPDVHERISGVDLGLPNWGKYVLLSAGALTALMLIIFLMTCWRRVNRSEPTQHNLRGTGREVSVTPQSGKIISSWESYKSGGETGL*';\n",
    "\n",
    "#range of mutagenized orf (only ectodomain)\n",
    "mutations_range = np.arange(18,451)\n",
    "\n",
    "#add stop mutation positions\n",
    "stop_positions = np.arange(18,58,2)\n",
    "\n",
    "#amino acid list\n",
    "aa_list=['A','C','D','E','F','G','H','I','K','L','M','N','P','Q','R','S','T','V','W','Y'];\n",
    "\n",
    "\n",
    "#headers of the dataframe\n",
    "sequential_site=[];\n",
    "amino_acid=[];\n",
    "mutations_type=[];\n",
    "\n"
   ]
  },
  {
   "cell_type": "code",
   "execution_count": 77,
   "id": "8c8c2e76-dd5d-4ba0-9f02-3dd5bb090633",
   "metadata": {
    "tags": []
   },
   "outputs": [
    {
     "name": "stdout",
     "output_type": "stream",
     "text": [
      "18\n",
      "20\n",
      "22\n",
      "24\n",
      "26\n",
      "28\n",
      "30\n",
      "32\n",
      "34\n",
      "36\n",
      "38\n",
      "40\n",
      "42\n",
      "44\n",
      "46\n",
      "48\n",
      "50\n",
      "52\n",
      "54\n",
      "56\n"
     ]
    }
   ],
   "source": [
    "#okay so i think i might go through the whole list now\n",
    "\n",
    "for i in mutations_range:\n",
    "    #amino acid -1 due to 0 index in string\n",
    "    codon_position = i-1;\n",
    "    wt_aa = seq[codon_position];\n",
    "    \n",
    "    #add mutations (aim for DMS, so add all not currently present)\n",
    "    for j in aa_list:\n",
    "        if wt_aa != j:\n",
    "            sequential_site.append(i);\n",
    "            amino_acid.append(j);\n",
    "            mutations_type.append('designed_mutation');\n",
    "        else:\n",
    "            continue\n",
    "    \n",
    "    #add stops\n",
    "    if (i in stop_positions):\n",
    "        print(i)\n",
    "        sequential_site.append(i);\n",
    "        amino_acid.append('*');\n",
    "        mutations_type.append('stop');\n",
    "    "
   ]
  },
  {
   "cell_type": "code",
   "execution_count": 62,
   "id": "83db95f5-57ad-4d13-8352-9e882d9c0443",
   "metadata": {
    "tags": []
   },
   "outputs": [
    {
     "data": {
      "text/plain": [
       "'F'"
      ]
     },
     "execution_count": 62,
     "metadata": {},
     "output_type": "execute_result"
    }
   ],
   "source": [
    "seq[17]"
   ]
  },
  {
   "cell_type": "code",
   "execution_count": 78,
   "id": "c4d81931-d351-4804-937b-b4355ce59dbb",
   "metadata": {
    "tags": []
   },
   "outputs": [
    {
     "data": {
      "text/plain": [
       "8247"
      ]
     },
     "execution_count": 78,
     "metadata": {},
     "output_type": "execute_result"
    }
   ],
   "source": [
    "len(sequential_site)"
   ]
  },
  {
   "cell_type": "code",
   "execution_count": 79,
   "id": "4347f25e-c246-4299-9933-0ebc9d9e5d6a",
   "metadata": {
    "tags": []
   },
   "outputs": [
    {
     "data": {
      "text/plain": [
       "8247"
      ]
     },
     "execution_count": 79,
     "metadata": {},
     "output_type": "execute_result"
    }
   ],
   "source": [
    "len(amino_acid)"
   ]
  },
  {
   "cell_type": "code",
   "execution_count": 80,
   "id": "f8f96a01-d870-4839-ab2b-1bbecc310b69",
   "metadata": {
    "tags": []
   },
   "outputs": [
    {
     "data": {
      "text/plain": [
       "8247"
      ]
     },
     "execution_count": 80,
     "metadata": {},
     "output_type": "execute_result"
    }
   ],
   "source": [
    "len(mutations_type)"
   ]
  },
  {
   "cell_type": "code",
   "execution_count": 84,
   "id": "25fe3b1b-9f11-47fe-aec5-e8b0974d68eb",
   "metadata": {
    "tags": []
   },
   "outputs": [],
   "source": [
    "designed_mutations = pd.DataFrame(columns=['sequential_site','amino_acid','mutations_type']);\n",
    "\n",
    "designed_mutations['sequential_site']=sequential_site\n",
    "designed_mutations['amino_acid']=amino_acid\n",
    "designed_mutations['mutations_type']=mutations_type\n"
   ]
  },
  {
   "cell_type": "code",
   "execution_count": 85,
   "id": "5e7c2eed-c5e5-4f3c-8712-0500f59b824a",
   "metadata": {
    "tags": []
   },
   "outputs": [
    {
     "data": {
      "text/html": [
       "<div>\n",
       "<style scoped>\n",
       "    .dataframe tbody tr th:only-of-type {\n",
       "        vertical-align: middle;\n",
       "    }\n",
       "\n",
       "    .dataframe tbody tr th {\n",
       "        vertical-align: top;\n",
       "    }\n",
       "\n",
       "    .dataframe thead th {\n",
       "        text-align: right;\n",
       "    }\n",
       "</style>\n",
       "<table border=\"1\" class=\"dataframe\">\n",
       "  <thead>\n",
       "    <tr style=\"text-align: right;\">\n",
       "      <th></th>\n",
       "      <th>sequential_site</th>\n",
       "      <th>amino_acid</th>\n",
       "      <th>mutations_type</th>\n",
       "    </tr>\n",
       "  </thead>\n",
       "  <tbody>\n",
       "    <tr>\n",
       "      <th>0</th>\n",
       "      <td>18</td>\n",
       "      <td>A</td>\n",
       "      <td>designed_mutation</td>\n",
       "    </tr>\n",
       "    <tr>\n",
       "      <th>1</th>\n",
       "      <td>18</td>\n",
       "      <td>C</td>\n",
       "      <td>designed_mutation</td>\n",
       "    </tr>\n",
       "    <tr>\n",
       "      <th>2</th>\n",
       "      <td>18</td>\n",
       "      <td>D</td>\n",
       "      <td>designed_mutation</td>\n",
       "    </tr>\n",
       "    <tr>\n",
       "      <th>3</th>\n",
       "      <td>18</td>\n",
       "      <td>E</td>\n",
       "      <td>designed_mutation</td>\n",
       "    </tr>\n",
       "    <tr>\n",
       "      <th>4</th>\n",
       "      <td>18</td>\n",
       "      <td>G</td>\n",
       "      <td>designed_mutation</td>\n",
       "    </tr>\n",
       "    <tr>\n",
       "      <th>...</th>\n",
       "      <td>...</td>\n",
       "      <td>...</td>\n",
       "      <td>...</td>\n",
       "    </tr>\n",
       "    <tr>\n",
       "      <th>8242</th>\n",
       "      <td>450</td>\n",
       "      <td>S</td>\n",
       "      <td>designed_mutation</td>\n",
       "    </tr>\n",
       "    <tr>\n",
       "      <th>8243</th>\n",
       "      <td>450</td>\n",
       "      <td>T</td>\n",
       "      <td>designed_mutation</td>\n",
       "    </tr>\n",
       "    <tr>\n",
       "      <th>8244</th>\n",
       "      <td>450</td>\n",
       "      <td>V</td>\n",
       "      <td>designed_mutation</td>\n",
       "    </tr>\n",
       "    <tr>\n",
       "      <th>8245</th>\n",
       "      <td>450</td>\n",
       "      <td>W</td>\n",
       "      <td>designed_mutation</td>\n",
       "    </tr>\n",
       "    <tr>\n",
       "      <th>8246</th>\n",
       "      <td>450</td>\n",
       "      <td>Y</td>\n",
       "      <td>designed_mutation</td>\n",
       "    </tr>\n",
       "  </tbody>\n",
       "</table>\n",
       "<p>8247 rows × 3 columns</p>\n",
       "</div>"
      ],
      "text/plain": [
       "      sequential_site amino_acid     mutations_type\n",
       "0                  18          A  designed_mutation\n",
       "1                  18          C  designed_mutation\n",
       "2                  18          D  designed_mutation\n",
       "3                  18          E  designed_mutation\n",
       "4                  18          G  designed_mutation\n",
       "...               ...        ...                ...\n",
       "8242              450          S  designed_mutation\n",
       "8243              450          T  designed_mutation\n",
       "8244              450          V  designed_mutation\n",
       "8245              450          W  designed_mutation\n",
       "8246              450          Y  designed_mutation\n",
       "\n",
       "[8247 rows x 3 columns]"
      ]
     },
     "execution_count": 85,
     "metadata": {},
     "output_type": "execute_result"
    }
   ],
   "source": [
    "designed_mutations[designed_mutations['sequential_site'"
   ]
  },
  {
   "cell_type": "code",
   "execution_count": null,
   "id": "ccaa68ce-f5da-4500-8c93-bc5535b75e68",
   "metadata": {},
   "outputs": [],
   "source": []
  }
 ],
 "metadata": {
  "kernelspec": {
   "display_name": "Python 3 (ipykernel)",
   "language": "python",
   "name": "python3"
  },
  "language_info": {
   "codemirror_mode": {
    "name": "ipython",
    "version": 3
   },
   "file_extension": ".py",
   "mimetype": "text/x-python",
   "name": "python",
   "nbconvert_exporter": "python",
   "pygments_lexer": "ipython3",
   "version": "3.11.3"
  }
 },
 "nbformat": 4,
 "nbformat_minor": 5
}
