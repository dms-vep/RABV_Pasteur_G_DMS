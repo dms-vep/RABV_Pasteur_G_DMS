{
 "cells": [
  {
   "cell_type": "markdown",
   "id": "67237f32-6649-45e6-84c3-74eb0ae68518",
   "metadata": {},
   "source": [
    "# Make logoplots showing key sites of escape for each antibody"
   ]
  },
  {
   "cell_type": "markdown",
   "id": "aaa9321f-1b8b-47ed-b21d-c5e418c75ea9",
   "metadata": {},
   "source": [
    "Get variables from `snakemake`:"
   ]
  },
  {
   "cell_type": "code",
   "execution_count": null,
   "id": "51ca505b-5aef-4040-b5fb-5f5fce14ff9c",
   "metadata": {},
   "outputs": [],
   "source": [
    "escape_csv = snakemake.input.escape_csv\n",
    "phenotypes_csv = snakemake.input.phenotypes_csv\n",
    "\n",
    "logoplot_subdir = snakemake.output.logoplot_subdir"
   ]
  },
  {
   "cell_type": "markdown",
   "id": "7a3c06a6-cba3-4dc0-bb26-5e222fb11e9d",
   "metadata": {},
   "source": [
    "Import Python modules:"
   ]
  },
  {
   "cell_type": "code",
   "execution_count": null,
   "id": "7f01eefb-212e-4d90-86a2-bd2ee1514655",
   "metadata": {},
   "outputs": [],
   "source": [
    "import functools\n",
    "import itertools\n",
    "import operator\n",
    "import os\n",
    "\n",
    "import altair as alt\n",
    "\n",
    "import dmslogo\n",
    "\n",
    "import matplotlib\n",
    "import matplotlib.pyplot as plt\n",
    "\n",
    "import pandas as pd\n",
    "\n",
    "_ = alt.data_transformers.disable_max_rows()\n",
    "\n",
    "os.makedirs(logoplot_subdir, exist_ok=True)"
   ]
  },
  {
   "cell_type": "markdown",
   "id": "3880164a-5215-415d-a5c4-49ef1e3fc386",
   "metadata": {},
   "source": [
    "Some configuration options.\n",
    "**Set configuration here, do not hardcode it in the notebook in later cells**."
   ]
  },
  {
   "cell_type": "code",
   "execution_count": null,
   "id": "3205b461-a143-459b-bc89-9d478e3cc47d",
   "metadata": {},
   "outputs": [],
   "source": [
    "positive_escape_only = True  # only show positive escape values\n",
    "min_cell_entry = -5  # minimum cell-entry effects worse than this are set to this\n",
    "drop_low_cell_entry = True  # drop escape for any mutations with cell entry below this?\n",
    "\n",
    "# highlight sites that meet any of these criteria (an OR operation)\n",
    "highlight_params = {\n",
    "    \"n_site_escape\": 6,  # the top this many sites in terms of site_escape\n",
    "    \"n_top_mut_escape\": 6,  # the top this many sites in terms of top site escape\n",
    "    \"min_site_escape\": 12,  # site escape >= this\n",
    "    \"min_top_mut_escape\": 2.5,  # top mutation escape >= this\n",
    "}\n",
    "\n",
    "# amino acids to plot\n",
    "aas = list(dmslogo.colorschemes.AA_CHARGE)\n",
    "\n",
    "# make logo plots with each of these antibody groups in addition to per-antibody logos\n",
    "antibody_groups = {\n",
    "    \"region_3_antibodies\": [\"17C7\", \"CR4098\", \"RVA122\", \"RVC58\"],\n",
    "    \"region_1_antibodies\": [\"RVC20\", \"CR57\"],   \n",
    "}\n",
    "\n",
    "# file extensions on saved plots\n",
    "file_extensions = [\".svg\", \".pdf\"]"
   ]
  },
  {
   "cell_type": "markdown",
   "id": "d35a8609-c41f-4708-814c-4c2842e9b205",
   "metadata": {},
   "source": [
    "Read escape values.\n",
    "Mutations with missing escape (or that have cell entry below threshold if dropping those) is set to zero.\n",
    "Setting these to zero is the same as removing them for the logoplots and site-escape sum plots used here, but if you use other plots you should bae aware that missing mutations have escape of zero in this dataframe."
   ]
  },
  {
   "cell_type": "code",
   "execution_count": null,
   "id": "36386b8f-5e1f-47f0-be9f-05b8448de301",
   "metadata": {},
   "outputs": [],
   "source": [
    "escape = (\n",
    "    pd.read_csv(escape_csv)\n",
    "    [[\"antibody\", \"site\", \"wildtype\", \"mutant\", \"escape\"]]\n",
    "    .merge(\n",
    "        pd.read_csv(phenotypes_csv)[[\"site\", \"sequential_site\", \"wildtype\", \"mutant\", \"cell entry\"]],\n",
    "        on=[\"site\", \"wildtype\", \"mutant\"],\n",
    "        how=\"left\",\n",
    "        validate=\"many_to_one\",\n",
    "    )\n",
    "    .query(\"mutant in @aas\")\n",
    ")\n",
    "\n",
    "if drop_low_cell_entry:\n",
    "    print(f\"Setting to zero escape for mutations with cell entry values below {min_cell_entry=}\")\n",
    "    escape[\"escape\"] = escape[\"escape\"].where(escape[\"cell entry\"] >= min_cell_entry, 0)\n",
    "    \n",
    "print(f\"Flooring cell entry values to {min_cell_entry=}\")\n",
    "escape[\"cell entry\"] = escape[\"cell entry\"].clip(lower=min_cell_entry)\n",
    "\n",
    "if positive_escape_only:\n",
    "    print(\"Setting negative escape values to zero\")\n",
    "    escape[\"escape\"] = escape[\"escape\"].clip(lower=0)\n",
    "\n",
    "# pad missing escape values to zero\n",
    "antibodies = escape[\"antibody\"].unique().tolist()\n",
    "print(f\"Read escape for the following {len(antibodies)}:\\n{antibodies=}\")\n",
    "escape_fill_zero = (\n",
    "    pd.DataFrame(\n",
    "        [[*tup, 0] for tup in itertools.product(escape[\"sequential_site\"].unique(), aas, antibodies)],\n",
    "        columns=[\"sequential_site\", \"mutant\", \"antibody\", \"escape\"]\n",
    "    )\n",
    "    .merge(\n",
    "        escape[[\"sequential_site\", \"site\", \"wildtype\"]].drop_duplicates(),\n",
    "        on=\"sequential_site\",\n",
    "        validate=\"many_to_one\",\n",
    "    )\n",
    ")\n",
    "escape = (\n",
    "    escape\n",
    "    [[\"sequential_site\", \"mutant\", \"antibody\", \"cell entry\", \"escape\"]]\n",
    "    .merge(\n",
    "        escape_fill_zero,\n",
    "        on=[\"sequential_site\", \"mutant\", \"antibody\"],\n",
    "        how=\"outer\",\n",
    "        validate=\"one_to_one\",\n",
    "    )\n",
    "    .assign(\n",
    "        **{\n",
    "            \"cell entry\": lambda x: x[\"cell entry\"].fillna(0),\n",
    "            \"escape\": lambda x: x[\"escape_x\"].where(x[\"escape_x\"].notnull(), x[\"escape_y\"]),\n",
    "        }\n",
    "    )\n",
    "    .drop(columns=[\"escape_x\", \"escape_y\"])\n",
    ")    "
   ]
  },
  {
   "cell_type": "markdown",
   "id": "785dde63-3d41-4d90-958b-0638c2ac9cef",
   "metadata": {},
   "source": [
    "To choose which sites to highlight, we get the total magnitude of the site escape and largest magnitude mutation at each site for each antibody.\n",
    "Then plot to indicate which sites are being shown:"
   ]
  },
  {
   "cell_type": "code",
   "execution_count": null,
   "id": "32219df4-2b6a-483b-8f44-5b1c86abed95",
   "metadata": {},
   "outputs": [],
   "source": [
    "# get total and top magnitude escape at each site\n",
    "per_site_escape = (\n",
    "    escape\n",
    "    .groupby([\"antibody\", \"site\"], as_index=False)\n",
    "    .aggregate(\n",
    "        site_escape=pd.NamedAgg(\"escape\", lambda s: s.abs().sum()),\n",
    "        top_mut_escape=pd.NamedAgg(\"escape\", lambda s: s.abs().max()),\n",
    "    )\n",
    "    .melt(id_vars=[\"antibody\", \"site\"], var_name=\"escape_type\", value_name=\"escape\")\n",
    "    .assign(\n",
    "        rank=lambda x: (\n",
    "            x.groupby([\"antibody\", \"escape_type\"])[\"escape\"].rank(\n",
    "                method=\"min\", ascending=False\n",
    "            ).astype(int)\n",
    "        )\n",
    "    )\n",
    ")"
   ]
  },
  {
   "cell_type": "code",
   "execution_count": null,
   "id": "ed66b9d8-dc00-4ce1-a0b7-bd70fb44d7b9",
   "metadata": {},
   "outputs": [],
   "source": [
    "# indicate the sites to highlight\n",
    "per_site_escape[\"highlight\"] = functools.reduce(\n",
    "    operator.or_,\n",
    "    [\n",
    "        (\n",
    "            (per_site_escape[\"escape_type\"] == escape_type)\n",
    "            & (\n",
    "                (per_site_escape[\"escape\"] >= highlight_params[f\"min_{escape_type}\"])\n",
    "                | (per_site_escape[\"rank\"] <= highlight_params[f\"n_{escape_type}\"])\n",
    "            )\n",
    "        )\n",
    "        for escape_type in [\"site_escape\", \"top_mut_escape\"]\n",
    "    ]\n",
    ")\n",
    "\n",
    "print(\"Number of sites to highlight for each antibody:\")\n",
    "per_site_escape.query(\"highlight\").groupby(\"antibody\").aggregate(\n",
    "    n_sites_to_highlight=pd.NamedAgg(\"site\", \"nunique\")\n",
    ")"
   ]
  },
  {
   "cell_type": "code",
   "execution_count": null,
   "id": "7f5fd647-30db-49da-b9c2-a0b57f1d470f",
   "metadata": {},
   "outputs": [],
   "source": [
    "# make plot\n",
    "site_selection = alt.selection_point(fields=[\"site\"], on=\"mouseover\", empty=False) \n",
    "\n",
    "per_site_escape_chart = (\n",
    "    alt.Chart(per_site_escape)\n",
    "    .add_params(site_selection)\n",
    "    .transform_calculate(jitter=\"random() - 0.5\")\n",
    "    .encode(\n",
    "        alt.X(\"escape\", title=None),\n",
    "        alt.Y(\"antibody\"),\n",
    "        alt.YOffset(\"jitter:Q\", scale=alt.Scale(domain=[-1.2, 1.2])),\n",
    "        alt.Column(\n",
    "            \"escape_type\",\n",
    "            title=None,\n",
    "            header=alt.Header(orient=\"bottom\", labelFontSize=11, labelFontStyle=\"bold\"),\n",
    "        ),\n",
    "        alt.Color(\"highlight\", title=\"site to highlight\"),\n",
    "        tooltip=[\"site\", \"rank\", \"antibody\"],\n",
    "        strokeWidth=alt.condition(site_selection, alt.value(3), alt.value(0.25)),\n",
    "    )\n",
    "    .mark_circle(size=40, strokeOpacity=1, fillOpacity=0.4, stroke=\"black\")\n",
    "    .resolve_scale(x=\"independent\")\n",
    "    .properties(width=275, height=alt.Step(30))\n",
    "    .configure_axis(grid=False)\n",
    ")\n",
    "\n",
    "per_site_escape_chart"
   ]
  },
  {
   "cell_type": "markdown",
   "id": "96c58c34-83ad-4190-abfc-84e2f58e0123",
   "metadata": {},
   "source": [
    "Add the sites to highlight for each antibody to the escape data frame, and get the total positive and negative escape at each site:"
   ]
  },
  {
   "cell_type": "code",
   "execution_count": null,
   "id": "740dd6e4-036f-4b91-8cf6-5a771c921a6b",
   "metadata": {},
   "outputs": [],
   "source": [
    "escape = (\n",
    "    escape\n",
    "    .assign(\n",
    "        positive_site_escape=(\n",
    "            lambda x: (\n",
    "                x.groupby([\"antibody\", \"site\"])[\"escape\"].transform(lambda s: s[s > 0].sum())\n",
    "    \n",
    "            )\n",
    "        ),\n",
    "        negative_site_escape=(\n",
    "            lambda x: (\n",
    "                x.groupby([\"antibody\", \"site\"])[\"escape\"].transform(lambda s: s[s < 0].sum())\n",
    "    \n",
    "            )\n",
    "        ),\n",
    "    )\n",
    "    .drop(columns=\"highlight\", errors=\"ignore\")\n",
    "    .merge(\n",
    "        per_site_escape.groupby([\"antibody\", \"site\"], as_index=False).aggregate(\n",
    "            {\"highlight\": \"any\"}\n",
    "        ),\n",
    "        on=[\"antibody\", \"site\"],\n",
    "        validate=\"many_to_one\",\n",
    "    )\n",
    ")"
   ]
  },
  {
   "cell_type": "markdown",
   "id": "cd68066f-f69e-4330-9ba0-1694fa6efc72",
   "metadata": {},
   "source": [
    "Now make line and logo plots for each antibody.\n",
    "\n",
    "First make color scale to color logos by cell entry:"
   ]
  },
  {
   "cell_type": "code",
   "execution_count": null,
   "id": "59fdc88f-966b-4b45-99da-2b7c9b983efb",
   "metadata": {},
   "outputs": [],
   "source": [
    "colormap = dmslogo.colorschemes.ValueToColorMap(\n",
    "    minvalue=min_cell_entry,\n",
    "    maxvalue=0,\n",
    "    cmap=matplotlib.colors.LinearSegmentedColormap.from_list(\n",
    "        \"white_to_green\",\n",
    "        [(1,0.985,0.737), (0.0545, 0.4313, 0.054)],\n",
    "    ),\n",
    ")\n",
    "\n",
    "for orientation in [\"vertical\", \"horizontal\"]:\n",
    "    assert colormap.minvalue == int(colormap.minvalue), \"code requires integer minvalue for color scale\"\n",
    "    assert colormap.maxvalue == int(colormap.maxvalue), \"code requires integer maxvalue for color scale\"\n",
    "    scale_fig, scale_ax = colormap.scale_bar(\n",
    "        orientation=orientation,\n",
    "        label=\"effect on cell entry\",\n",
    "    )\n",
    "    ticks = list(range(int(colormap.minvalue), int(colormap.maxvalue) + 1))\n",
    "    ticklabels = [f\"≤{ticks[0]}\"] + [str(t) for t in ticks[1: -1]] + [f\"≥{ticks[-1]}\"]\n",
    "    ax = scale_ax.xaxis if orientation == \"horizontal\" else scale_ax.yaxis\n",
    "    ax.set_ticks(ticks)\n",
    "    ax.set_ticklabels(ticklabels)\n",
    "    display(scale_fig)\n",
    "\n",
    "    for ext in file_extensions:\n",
    "        fname = os.path.join(logoplot_subdir, f\"scalebar_{orientation}{ext}\")\n",
    "        print(f\"Saving to {fname}\")\n",
    "        scale_fig.savefig(fname)\n",
    "    \n",
    "    plt.close(scale_fig)\n",
    "\n",
    "escape[\"letter_color\"] = colormap.val_to_color(\n",
    "    escape[\"cell entry\"].clip(lower=colormap.minvalue, upper=colormap.maxvalue)\n",
    ")"
   ]
  },
  {
   "cell_type": "markdown",
   "id": "b7698a71-3a6a-4523-afc8-336560fa10ca",
   "metadata": {
    "execution": {
     "iopub.execute_input": "2024-11-05T13:42:13.434680Z",
     "iopub.status.busy": "2024-11-05T13:42:13.433930Z",
     "iopub.status.idle": "2024-11-05T13:42:13.443038Z",
     "shell.execute_reply": "2024-11-05T13:42:13.441766Z",
     "shell.execute_reply.started": "2024-11-05T13:42:13.434630Z"
    }
   },
   "source": [
    "Draw plots for each individual antibody:"
   ]
  },
  {
   "cell_type": "code",
   "execution_count": null,
   "id": "03f79ef0-cf3e-4a8b-9256-81a87e64e932",
   "metadata": {},
   "outputs": [],
   "source": [
    "for antibody_group, antibodies_to_plot in (\n",
    "    antibody_groups | {a: [a] for a in antibodies}\n",
    ").items():\n",
    "    print(f\"\\nMaking plot for {antibody_group=} with {antibodies_to_plot=}\")\n",
    "    df = (\n",
    "        escape\n",
    "        .query(\"antibody in @antibodies_to_plot\")\n",
    "        .assign(highlight=lambda x: x.groupby(\"site\")[\"highlight\"].transform(\"any\"))\n",
    "    )\n",
    "    fig, _ = dmslogo.facet_plot(\n",
    "        df,\n",
    "        x_col=\"sequential_site\",\n",
    "        show_col=\"highlight\",\n",
    "        gridrow_col=\"antibody\",\n",
    "        draw_line_kwargs={\n",
    "            \"height_col\": \"positive_site_escape\",\n",
    "            \"height_col2\": None if positive_escape_only else \"negative_site_escape\",\n",
    "            \"xtick_col\": \"site\",\n",
    "            \"ylabel\": \"escape\",\n",
    "            \"widthscale\": 0.4,\n",
    "        },\n",
    "        draw_logo_kwargs={\n",
    "            \"letter_col\": \"mutant\",\n",
    "            \"letter_height_col\": \"escape\",\n",
    "            \"xtick_col\": \"site\",\n",
    "            \"color_col\": \"letter_color\",\n",
    "            \"widthscale\": 0.75,\n",
    "        },\n",
    "        share_xlabel=True,\n",
    "        share_ylabel=True,\n",
    "        height_per_ax=1.9,\n",
    "        wspace=0.7,\n",
    "        share_ylim_across_rows=False,\n",
    "    )\n",
    "\n",
    "    for ext in file_extensions:\n",
    "        fname = os.path.join(logoplot_subdir, f\"{antibody_group}{ext}\")\n",
    "        print(f\"Saving to {fname}\")\n",
    "        fig.savefig(fname)\n",
    "\n",
    "    display(fig)\n",
    "    plt.close(fig)"
   ]
  },
  {
   "cell_type": "code",
   "execution_count": null,
   "id": "d3a497c8-23fd-448d-ae9d-5eafd9963ec5",
   "metadata": {},
   "outputs": [],
   "source": []
  }
 ],
 "metadata": {
  "kernelspec": {
   "display_name": "Python 3 (ipykernel)",
   "language": "python",
   "name": "python3"
  },
  "language_info": {
   "codemirror_mode": {
    "name": "ipython",
    "version": 3
   },
   "file_extension": ".py",
   "mimetype": "text/x-python",
   "name": "python",
   "nbconvert_exporter": "python",
   "pygments_lexer": "ipython3",
   "version": "3.11.9"
  }
 },
 "nbformat": 4,
 "nbformat_minor": 5
}
