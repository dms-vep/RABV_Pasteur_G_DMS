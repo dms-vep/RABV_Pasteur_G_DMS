{
 "cells": [
  {
   "cell_type": "code",
   "execution_count": 14,
   "id": "b44b04d1-7168-408e-8030-2542a92a04ef",
   "metadata": {
    "tags": []
   },
   "outputs": [],
   "source": [
    "import numpy as np\n",
    "import pandas as pd\n"
   ]
  },
  {
   "cell_type": "code",
   "execution_count": 15,
   "id": "c0caf8ce-7cc2-4965-b39a-a39af27a1b08",
   "metadata": {
    "tags": []
   },
   "outputs": [],
   "source": [
    "#calculate positions of wildtype amino acids in RABV-G\n",
    "\n",
    "seq='MVPQALLFVPLLVFPLCFGKFPIYTIPDKLGPWSPIDIHHLSCPNNLVVEDEGCTNLSGFSYMELKVGYISAIKMNGFTCTGVVTEAETYTNFVGYVTTTFKRKHFRPTPDACRAAYNWKMAGDPRYEESLHNPYPDYHWLRTVKTTKESLVIISPSVADLDPYDRSLHSRVFPGGNCSGVAVSSTYCSTNHDYTIWMPENPRLGMSCDIFTNSRGKRASKGSETCGFVDERGLYKSLKGACKLKLCGVLGLRLMDGTWVAMQTSNETKWCPPGQLVNLHDFRSDEIEHLVVEELVKKREECLDALESIMTTKSVSFRRLSHLRKLVPGFGKAYTIFNKTLMEADAHYKSVRTWNEIIPSKGCLRVGGRCHPHVNGVFFNGIILGPDGNVLIPEMQSSLLQQHMELLVSSVIPLMHPLADPSTVFKNGDEAEDFVEVHLPDVHERISGVDLGLPNWGKYVLLSAGALTALMLIIFLMTCWRRVNRSEPTQHNLRGTGREVSVTPQSGKIISSWESYKSGGETGL*';\n",
    "\n",
    "\n",
    "numbering = np.arange(1,len(seq)+1,1)"
   ]
  },
  {
   "cell_type": "code",
   "execution_count": 16,
   "id": "531038cb-15de-49eb-b69a-03ec6da04055",
   "metadata": {
    "tags": []
   },
   "outputs": [],
   "source": [
    "seq_array = list(seq)"
   ]
  },
  {
   "cell_type": "code",
   "execution_count": 17,
   "id": "a0b4f2c1-97c5-4e3d-a5b1-c3554761a9dc",
   "metadata": {
    "tags": []
   },
   "outputs": [],
   "source": [
    "sequence_dataframe=pd.DataFrame(columns=['sequential_site','sequential_wt','reference_site','reference_wt','region'])\n",
    "\n",
    "sequence_dataframe['sequential_site']=numbering\n",
    "sequence_dataframe['reference_site']=numbering\n",
    "\n",
    "sequence_dataframe['sequential_wt']=seq_array;\n",
    "sequence_dataframe['reference_wt']=seq_array;\n",
    "\n",
    "\n"
   ]
  },
  {
   "cell_type": "code",
   "execution_count": 18,
   "id": "528ef06f-2556-4300-beb9-be83376de601",
   "metadata": {},
   "outputs": [
    {
     "data": {
      "text/plain": [
       "array([470, 471, 472, 473, 474, 475, 476, 477, 478, 479, 480, 481, 482,\n",
       "       483, 484, 485, 486, 487, 488, 489, 490, 491, 492, 493, 494, 495,\n",
       "       496, 497, 498, 499, 500, 501, 502, 503, 504, 505, 506, 507, 508,\n",
       "       509, 510, 511, 512, 513, 514, 515, 516, 517, 518, 519, 520, 521,\n",
       "       522, 523, 524, 525])"
      ]
     },
     "execution_count": 18,
     "metadata": {},
     "output_type": "execute_result"
    }
   ],
   "source": [
    "#positions of various domains\n",
    "signal_peptide = np.arange(1,21);\n",
    "ectodomain = np.arange(21,441);\n",
    "TM = np.arange(441,470);\n",
    "cytoplasmic_domain = np.arange(470, 526);\n",
    "\n",
    "cytoplasmic_domain"
   ]
  },
  {
   "cell_type": "code",
   "execution_count": 19,
   "id": "9a3a6a7b-b3d5-48e7-96cf-72fd32ddaea1",
   "metadata": {},
   "outputs": [
    {
     "data": {
      "text/plain": [
       "array([ 21,  22,  23,  24,  25,  26,  27,  28,  29,  30,  31,  32,  33,\n",
       "        34,  35,  36,  37,  38,  39,  40,  41,  42,  43,  44,  45,  46,\n",
       "        47,  48,  49,  50,  51,  52,  53,  54,  55,  56,  57,  58,  59,\n",
       "        60,  61,  62,  63,  64,  65,  66,  67,  68,  69,  70,  71,  72,\n",
       "        73,  74,  75,  76,  77,  78,  79,  80,  81,  82,  83,  84,  85,\n",
       "        86,  87,  88,  89,  90,  91,  92,  93,  94,  95,  96,  97,  98,\n",
       "        99, 100, 101, 102, 103, 104, 105, 106, 107, 108, 109, 110, 111,\n",
       "       112, 113, 114, 115, 116, 117, 118, 119, 120, 121, 122, 123, 124,\n",
       "       125, 126, 127, 128, 129, 130, 131, 132, 133, 134, 135, 136, 137,\n",
       "       138, 139, 140, 141, 142, 143, 144, 145, 146, 147, 148, 149, 150,\n",
       "       151, 152, 153, 154, 155, 156, 157, 158, 159, 160, 161, 162, 163,\n",
       "       164, 165, 166, 167, 168, 169, 170, 171, 172, 173, 174, 175, 176,\n",
       "       177, 178, 179, 180, 181, 182, 183, 184, 185, 186, 187, 188, 189,\n",
       "       190, 191, 192, 193, 194, 195, 196, 197, 198, 199, 200, 201, 202,\n",
       "       203, 204, 205, 206, 207, 208, 209, 210, 211, 212, 213, 214, 215,\n",
       "       216, 217, 218, 219, 220, 221, 222, 223, 224, 225, 226, 227, 228,\n",
       "       229, 230, 231, 232, 233, 234, 235, 236, 237, 238, 239, 240, 241,\n",
       "       242, 243, 244, 245, 246, 247, 248, 249, 250, 251, 252, 253, 254,\n",
       "       255, 256, 257, 258, 259, 260, 261, 262, 263, 264, 265, 266, 267,\n",
       "       268, 269, 270, 271, 272, 273, 274, 275, 276, 277, 278, 279, 280,\n",
       "       281, 282, 283, 284, 285, 286, 287, 288, 289, 290, 291, 292, 293,\n",
       "       294, 295, 296, 297, 298, 299, 300, 301, 302, 303, 304, 305, 306,\n",
       "       307, 308, 309, 310, 311, 312, 313, 314, 315, 316, 317, 318, 319,\n",
       "       320, 321, 322, 323, 324, 325, 326, 327, 328, 329, 330, 331, 332,\n",
       "       333, 334, 335, 336, 337, 338, 339, 340, 341, 342, 343, 344, 345,\n",
       "       346, 347, 348, 349, 350, 351, 352, 353, 354, 355, 356, 357, 358,\n",
       "       359, 360, 361, 362, 363, 364, 365, 366, 367, 368, 369, 370, 371,\n",
       "       372, 373, 374, 375, 376, 377, 378, 379, 380, 381, 382, 383, 384,\n",
       "       385, 386, 387, 388, 389, 390, 391, 392, 393, 394, 395, 396, 397,\n",
       "       398, 399, 400, 401, 402, 403, 404, 405, 406, 407, 408, 409, 410,\n",
       "       411, 412, 413, 414, 415, 416, 417, 418, 419, 420, 421, 422, 423,\n",
       "       424, 425, 426, 427, 428, 429, 430, 431, 432, 433, 434, 435, 436,\n",
       "       437, 438, 439, 440])"
      ]
     },
     "execution_count": 19,
     "metadata": {},
     "output_type": "execute_result"
    }
   ],
   "source": [
    "ectodomain"
   ]
  },
  {
   "cell_type": "code",
   "execution_count": 20,
   "id": "f6a7161e-ea1c-42f8-b62c-d8def6b10a1e",
   "metadata": {},
   "outputs": [],
   "source": [
    "def assign_domain(site):\n",
    "    region='';\n",
    "\n",
    "    if site in signal_peptide:\n",
    "        return 'signal_peptide';\n",
    "    elif site in ectodomain:\n",
    "        return 'ectodomain';\n",
    "    elif site in TM:\n",
    "        return 'transmembrane';\n",
    "    else:\n",
    "        return 'cytoplasmic_domain';"
   ]
  },
  {
   "cell_type": "code",
   "execution_count": 21,
   "id": "113d7443-e971-45e8-b045-ba63b410ef91",
   "metadata": {},
   "outputs": [],
   "source": [
    "sequence_dataframe['region']=sequence_dataframe['sequential_site'].apply(lambda x: assign_domain(x))"
   ]
  },
  {
   "cell_type": "code",
   "execution_count": 22,
   "id": "c33724ce-e966-438c-a6cf-11914739eaec",
   "metadata": {
    "tags": []
   },
   "outputs": [
    {
     "data": {
      "text/html": [
       "<div>\n",
       "<style scoped>\n",
       "    .dataframe tbody tr th:only-of-type {\n",
       "        vertical-align: middle;\n",
       "    }\n",
       "\n",
       "    .dataframe tbody tr th {\n",
       "        vertical-align: top;\n",
       "    }\n",
       "\n",
       "    .dataframe thead th {\n",
       "        text-align: right;\n",
       "    }\n",
       "</style>\n",
       "<table border=\"1\" class=\"dataframe\">\n",
       "  <thead>\n",
       "    <tr style=\"text-align: right;\">\n",
       "      <th></th>\n",
       "      <th>sequential_site</th>\n",
       "      <th>sequential_wt</th>\n",
       "      <th>reference_site</th>\n",
       "      <th>reference_wt</th>\n",
       "      <th>region</th>\n",
       "    </tr>\n",
       "  </thead>\n",
       "  <tbody>\n",
       "    <tr>\n",
       "      <th>0</th>\n",
       "      <td>1</td>\n",
       "      <td>M</td>\n",
       "      <td>1</td>\n",
       "      <td>M</td>\n",
       "      <td>signal_peptide</td>\n",
       "    </tr>\n",
       "    <tr>\n",
       "      <th>1</th>\n",
       "      <td>2</td>\n",
       "      <td>V</td>\n",
       "      <td>2</td>\n",
       "      <td>V</td>\n",
       "      <td>signal_peptide</td>\n",
       "    </tr>\n",
       "    <tr>\n",
       "      <th>2</th>\n",
       "      <td>3</td>\n",
       "      <td>P</td>\n",
       "      <td>3</td>\n",
       "      <td>P</td>\n",
       "      <td>signal_peptide</td>\n",
       "    </tr>\n",
       "    <tr>\n",
       "      <th>3</th>\n",
       "      <td>4</td>\n",
       "      <td>Q</td>\n",
       "      <td>4</td>\n",
       "      <td>Q</td>\n",
       "      <td>signal_peptide</td>\n",
       "    </tr>\n",
       "    <tr>\n",
       "      <th>4</th>\n",
       "      <td>5</td>\n",
       "      <td>A</td>\n",
       "      <td>5</td>\n",
       "      <td>A</td>\n",
       "      <td>signal_peptide</td>\n",
       "    </tr>\n",
       "    <tr>\n",
       "      <th>...</th>\n",
       "      <td>...</td>\n",
       "      <td>...</td>\n",
       "      <td>...</td>\n",
       "      <td>...</td>\n",
       "      <td>...</td>\n",
       "    </tr>\n",
       "    <tr>\n",
       "      <th>520</th>\n",
       "      <td>521</td>\n",
       "      <td>E</td>\n",
       "      <td>521</td>\n",
       "      <td>E</td>\n",
       "      <td>cytoplasmic_domain</td>\n",
       "    </tr>\n",
       "    <tr>\n",
       "      <th>521</th>\n",
       "      <td>522</td>\n",
       "      <td>T</td>\n",
       "      <td>522</td>\n",
       "      <td>T</td>\n",
       "      <td>cytoplasmic_domain</td>\n",
       "    </tr>\n",
       "    <tr>\n",
       "      <th>522</th>\n",
       "      <td>523</td>\n",
       "      <td>G</td>\n",
       "      <td>523</td>\n",
       "      <td>G</td>\n",
       "      <td>cytoplasmic_domain</td>\n",
       "    </tr>\n",
       "    <tr>\n",
       "      <th>523</th>\n",
       "      <td>524</td>\n",
       "      <td>L</td>\n",
       "      <td>524</td>\n",
       "      <td>L</td>\n",
       "      <td>cytoplasmic_domain</td>\n",
       "    </tr>\n",
       "    <tr>\n",
       "      <th>524</th>\n",
       "      <td>525</td>\n",
       "      <td>*</td>\n",
       "      <td>525</td>\n",
       "      <td>*</td>\n",
       "      <td>cytoplasmic_domain</td>\n",
       "    </tr>\n",
       "  </tbody>\n",
       "</table>\n",
       "<p>525 rows × 5 columns</p>\n",
       "</div>"
      ],
      "text/plain": [
       "     sequential_site sequential_wt  reference_site reference_wt  \\\n",
       "0                  1             M               1            M   \n",
       "1                  2             V               2            V   \n",
       "2                  3             P               3            P   \n",
       "3                  4             Q               4            Q   \n",
       "4                  5             A               5            A   \n",
       "..               ...           ...             ...          ...   \n",
       "520              521             E             521            E   \n",
       "521              522             T             522            T   \n",
       "522              523             G             523            G   \n",
       "523              524             L             524            L   \n",
       "524              525             *             525            *   \n",
       "\n",
       "                 region  \n",
       "0        signal_peptide  \n",
       "1        signal_peptide  \n",
       "2        signal_peptide  \n",
       "3        signal_peptide  \n",
       "4        signal_peptide  \n",
       "..                  ...  \n",
       "520  cytoplasmic_domain  \n",
       "521  cytoplasmic_domain  \n",
       "522  cytoplasmic_domain  \n",
       "523  cytoplasmic_domain  \n",
       "524  cytoplasmic_domain  \n",
       "\n",
       "[525 rows x 5 columns]"
      ]
     },
     "execution_count": 22,
     "metadata": {},
     "output_type": "execute_result"
    }
   ],
   "source": [
    "sequence_dataframe"
   ]
  },
  {
   "cell_type": "code",
   "execution_count": 23,
   "id": "a6245cb8-6cd2-434f-8796-2eaf0d3d60bf",
   "metadata": {
    "tags": []
   },
   "outputs": [],
   "source": [
    "sequence_dataframe = sequence_dataframe[sequence_dataframe['reference_site']>=18];\n",
    "sequence_dataframe = sequence_dataframe[sequence_dataframe['reference_site']<=450];\n",
    "\n",
    "#renumber sequential site to start at 1\n",
    "sequence_dataframe['sequential_site'] = sequence_dataframe['sequential_site'].apply(lambda x: x-17);\n",
    "\n",
    "\n",
    "\n",
    "sequence_dataframe.to_csv('site_numbering_map.csv');"
   ]
  },
  {
   "cell_type": "code",
   "execution_count": 13,
   "id": "629939b9-d95b-4f20-bc2e-50646b3782be",
   "metadata": {},
   "outputs": [
    {
     "data": {
      "text/html": [
       "<div>\n",
       "<style scoped>\n",
       "    .dataframe tbody tr th:only-of-type {\n",
       "        vertical-align: middle;\n",
       "    }\n",
       "\n",
       "    .dataframe tbody tr th {\n",
       "        vertical-align: top;\n",
       "    }\n",
       "\n",
       "    .dataframe thead th {\n",
       "        text-align: right;\n",
       "    }\n",
       "</style>\n",
       "<table border=\"1\" class=\"dataframe\">\n",
       "  <thead>\n",
       "    <tr style=\"text-align: right;\">\n",
       "      <th></th>\n",
       "      <th>sequential_site</th>\n",
       "      <th>sequential_wt</th>\n",
       "      <th>reference_site</th>\n",
       "      <th>reference_wt</th>\n",
       "      <th>region</th>\n",
       "    </tr>\n",
       "  </thead>\n",
       "  <tbody>\n",
       "    <tr>\n",
       "      <th>17</th>\n",
       "      <td>1</td>\n",
       "      <td>F</td>\n",
       "      <td>18</td>\n",
       "      <td>F</td>\n",
       "      <td>signal_peptide</td>\n",
       "    </tr>\n",
       "    <tr>\n",
       "      <th>18</th>\n",
       "      <td>2</td>\n",
       "      <td>G</td>\n",
       "      <td>19</td>\n",
       "      <td>G</td>\n",
       "      <td>signal_peptide</td>\n",
       "    </tr>\n",
       "    <tr>\n",
       "      <th>19</th>\n",
       "      <td>3</td>\n",
       "      <td>K</td>\n",
       "      <td>20</td>\n",
       "      <td>K</td>\n",
       "      <td>signal_peptide</td>\n",
       "    </tr>\n",
       "    <tr>\n",
       "      <th>20</th>\n",
       "      <td>4</td>\n",
       "      <td>F</td>\n",
       "      <td>21</td>\n",
       "      <td>F</td>\n",
       "      <td>ectodomain</td>\n",
       "    </tr>\n",
       "    <tr>\n",
       "      <th>21</th>\n",
       "      <td>5</td>\n",
       "      <td>P</td>\n",
       "      <td>22</td>\n",
       "      <td>P</td>\n",
       "      <td>ectodomain</td>\n",
       "    </tr>\n",
       "    <tr>\n",
       "      <th>...</th>\n",
       "      <td>...</td>\n",
       "      <td>...</td>\n",
       "      <td>...</td>\n",
       "      <td>...</td>\n",
       "      <td>...</td>\n",
       "    </tr>\n",
       "    <tr>\n",
       "      <th>520</th>\n",
       "      <td>504</td>\n",
       "      <td>E</td>\n",
       "      <td>521</td>\n",
       "      <td>E</td>\n",
       "      <td>cytoplasmic_domain</td>\n",
       "    </tr>\n",
       "    <tr>\n",
       "      <th>521</th>\n",
       "      <td>505</td>\n",
       "      <td>T</td>\n",
       "      <td>522</td>\n",
       "      <td>T</td>\n",
       "      <td>cytoplasmic_domain</td>\n",
       "    </tr>\n",
       "    <tr>\n",
       "      <th>522</th>\n",
       "      <td>506</td>\n",
       "      <td>G</td>\n",
       "      <td>523</td>\n",
       "      <td>G</td>\n",
       "      <td>cytoplasmic_domain</td>\n",
       "    </tr>\n",
       "    <tr>\n",
       "      <th>523</th>\n",
       "      <td>507</td>\n",
       "      <td>L</td>\n",
       "      <td>524</td>\n",
       "      <td>L</td>\n",
       "      <td>cytoplasmic_domain</td>\n",
       "    </tr>\n",
       "    <tr>\n",
       "      <th>524</th>\n",
       "      <td>508</td>\n",
       "      <td>*</td>\n",
       "      <td>525</td>\n",
       "      <td>*</td>\n",
       "      <td>cytoplasmic_domain</td>\n",
       "    </tr>\n",
       "  </tbody>\n",
       "</table>\n",
       "<p>508 rows × 5 columns</p>\n",
       "</div>"
      ],
      "text/plain": [
       "     sequential_site sequential_wt  reference_site reference_wt  \\\n",
       "17                 1             F              18            F   \n",
       "18                 2             G              19            G   \n",
       "19                 3             K              20            K   \n",
       "20                 4             F              21            F   \n",
       "21                 5             P              22            P   \n",
       "..               ...           ...             ...          ...   \n",
       "520              504             E             521            E   \n",
       "521              505             T             522            T   \n",
       "522              506             G             523            G   \n",
       "523              507             L             524            L   \n",
       "524              508             *             525            *   \n",
       "\n",
       "                 region  \n",
       "17       signal_peptide  \n",
       "18       signal_peptide  \n",
       "19       signal_peptide  \n",
       "20           ectodomain  \n",
       "21           ectodomain  \n",
       "..                  ...  \n",
       "520  cytoplasmic_domain  \n",
       "521  cytoplasmic_domain  \n",
       "522  cytoplasmic_domain  \n",
       "523  cytoplasmic_domain  \n",
       "524  cytoplasmic_domain  \n",
       "\n",
       "[508 rows x 5 columns]"
      ]
     },
     "execution_count": 13,
     "metadata": {},
     "output_type": "execute_result"
    }
   ],
   "source": [
    "sequence_dataframe"
   ]
  },
  {
   "cell_type": "code",
   "execution_count": 9,
   "id": "50f68e91-5310-40af-8beb-400080883aa1",
   "metadata": {
    "tags": []
   },
   "outputs": [],
   "source": [
    "pacbio_dataframe=pd.DataFrame(columns=['library','run','fastq'])\n",
    "\n",
    "library = ['A','B'];\n",
    "run = ['A_220124','B_220124'];\n",
    "fastq=['/fh/fast/bloom_j/computational_notebooks/aaditham/2024/RABV_Pasteur_G_DMS/data/m64272e_240201_182146.hifi_reads.bc2083--bc2083.fastq',\n",
    "       '/fh/fast/bloom_j/computational_notebooks/aaditham/2024/RABV_Pasteur_G_DMS/data/m64272e_240203_003328.hifi_reads.bc2084--bc2084.fastq'];\n",
    "       "
   ]
  },
  {
   "cell_type": "code",
   "execution_count": 10,
   "id": "8585fd95-cd68-4bac-8d9d-4f0c2e7f7b54",
   "metadata": {
    "tags": []
   },
   "outputs": [],
   "source": [
    "pacbio_dataframe['library']=library;\n",
    "pacbio_dataframe['run']=run;\n",
    "pacbio_dataframe['fastq']=fastq;"
   ]
  },
  {
   "cell_type": "code",
   "execution_count": 11,
   "id": "fad89924-9b5c-434d-a3b8-94383b80f65c",
   "metadata": {
    "tags": []
   },
   "outputs": [
    {
     "data": {
      "text/html": [
       "<div>\n",
       "<style scoped>\n",
       "    .dataframe tbody tr th:only-of-type {\n",
       "        vertical-align: middle;\n",
       "    }\n",
       "\n",
       "    .dataframe tbody tr th {\n",
       "        vertical-align: top;\n",
       "    }\n",
       "\n",
       "    .dataframe thead th {\n",
       "        text-align: right;\n",
       "    }\n",
       "</style>\n",
       "<table border=\"1\" class=\"dataframe\">\n",
       "  <thead>\n",
       "    <tr style=\"text-align: right;\">\n",
       "      <th></th>\n",
       "      <th>library</th>\n",
       "      <th>run</th>\n",
       "      <th>fastq</th>\n",
       "    </tr>\n",
       "  </thead>\n",
       "  <tbody>\n",
       "    <tr>\n",
       "      <th>0</th>\n",
       "      <td>A</td>\n",
       "      <td>A_220124</td>\n",
       "      <td>/fh/fast/bloom_j/computational_notebooks/aadit...</td>\n",
       "    </tr>\n",
       "    <tr>\n",
       "      <th>1</th>\n",
       "      <td>B</td>\n",
       "      <td>B_220124</td>\n",
       "      <td>/fh/fast/bloom_j/computational_notebooks/aadit...</td>\n",
       "    </tr>\n",
       "  </tbody>\n",
       "</table>\n",
       "</div>"
      ],
      "text/plain": [
       "  library       run                                              fastq\n",
       "0       A  A_220124  /fh/fast/bloom_j/computational_notebooks/aadit...\n",
       "1       B  B_220124  /fh/fast/bloom_j/computational_notebooks/aadit..."
      ]
     },
     "execution_count": 11,
     "metadata": {},
     "output_type": "execute_result"
    }
   ],
   "source": [
    "pacbio_dataframe"
   ]
  },
  {
   "cell_type": "code",
   "execution_count": 12,
   "id": "e3c28fa4-0408-4a09-97a9-6c9a932af7c3",
   "metadata": {
    "tags": []
   },
   "outputs": [],
   "source": [
    "pacbio_dataframe.to_csv('PacBio_runs.csv');\n",
    "pacbio_dataframe.to_csv('pacbio_runs.csv');"
   ]
  },
  {
   "cell_type": "code",
   "execution_count": 6,
   "id": "ec1c89e5-7576-4c47-99df-617386e22a6d",
   "metadata": {},
   "outputs": [],
   "source": [
    "#generate blank barcode runs file (dummy)\n",
    "\n",
    "barcode_runs_df = pacbio_dataframe=pd.DataFrame(columns=['sample','library','date','fastq_R1','notes'])\n"
   ]
  },
  {
   "cell_type": "code",
   "execution_count": 8,
   "id": "914bdb1d-6165-448e-8fd1-2654ffcf948f",
   "metadata": {
    "tags": []
   },
   "outputs": [],
   "source": [
    "barcode_runs_df.to_csv('barcode_runs.csv')"
   ]
  },
  {
   "cell_type": "code",
   "execution_count": 15,
   "id": "4b46136f-95e9-4013-beed-2d2586241a63",
   "metadata": {
    "tags": []
   },
   "outputs": [],
   "source": [
    "#add neturalization standard barcodes\n",
    "\n",
    "neut_std_barcodes = pd.DataFrame(columns=['barcode','name']);\n",
    "\n",
    "barcodes = ['GTGCAGTAGTAAAGTA','TACGTCGCAATGGTCC','CCATCTAGTGGCTAGG','AGTAGACTCCCTCCAT','CGTGGCGTTTACACTA','GCGATTCACGCGTTGG','TACCCATGGATACGAT','ATATAGACACGTGACC'];\n",
    "name = ['neut_standard','neut_standard','neut_standard','neut_standard','neut_standard','neut_standard','neut_standard','neut_standard'];\n",
    "\n",
    "\n",
    "neut_std_barcodes['barcode']=barcodes;\n",
    "neut_std_barcodes['name']=name;\n",
    "\n"
   ]
  },
  {
   "cell_type": "code",
   "execution_count": 16,
   "id": "d481be8a-4992-48f4-b970-de058d8285a3",
   "metadata": {
    "tags": []
   },
   "outputs": [
    {
     "data": {
      "text/html": [
       "<div>\n",
       "<style scoped>\n",
       "    .dataframe tbody tr th:only-of-type {\n",
       "        vertical-align: middle;\n",
       "    }\n",
       "\n",
       "    .dataframe tbody tr th {\n",
       "        vertical-align: top;\n",
       "    }\n",
       "\n",
       "    .dataframe thead th {\n",
       "        text-align: right;\n",
       "    }\n",
       "</style>\n",
       "<table border=\"1\" class=\"dataframe\">\n",
       "  <thead>\n",
       "    <tr style=\"text-align: right;\">\n",
       "      <th></th>\n",
       "      <th>barcode</th>\n",
       "      <th>name</th>\n",
       "    </tr>\n",
       "  </thead>\n",
       "  <tbody>\n",
       "    <tr>\n",
       "      <th>0</th>\n",
       "      <td>GTGCAGTAGTAAAGTA</td>\n",
       "      <td>neut_standard</td>\n",
       "    </tr>\n",
       "    <tr>\n",
       "      <th>1</th>\n",
       "      <td>TACGTCGCAATGGTCC</td>\n",
       "      <td>neut_standard</td>\n",
       "    </tr>\n",
       "    <tr>\n",
       "      <th>2</th>\n",
       "      <td>CCATCTAGTGGCTAGG</td>\n",
       "      <td>neut_standard</td>\n",
       "    </tr>\n",
       "    <tr>\n",
       "      <th>3</th>\n",
       "      <td>AGTAGACTCCCTCCAT</td>\n",
       "      <td>neut_standard</td>\n",
       "    </tr>\n",
       "    <tr>\n",
       "      <th>4</th>\n",
       "      <td>CGTGGCGTTTACACTA</td>\n",
       "      <td>neut_standard</td>\n",
       "    </tr>\n",
       "    <tr>\n",
       "      <th>5</th>\n",
       "      <td>GCGATTCACGCGTTGG</td>\n",
       "      <td>neut_standard</td>\n",
       "    </tr>\n",
       "    <tr>\n",
       "      <th>6</th>\n",
       "      <td>TACCCATGGATACGAT</td>\n",
       "      <td>neut_standard</td>\n",
       "    </tr>\n",
       "    <tr>\n",
       "      <th>7</th>\n",
       "      <td>ATATAGACACGTGACC</td>\n",
       "      <td>neut_standard</td>\n",
       "    </tr>\n",
       "  </tbody>\n",
       "</table>\n",
       "</div>"
      ],
      "text/plain": [
       "            barcode           name\n",
       "0  GTGCAGTAGTAAAGTA  neut_standard\n",
       "1  TACGTCGCAATGGTCC  neut_standard\n",
       "2  CCATCTAGTGGCTAGG  neut_standard\n",
       "3  AGTAGACTCCCTCCAT  neut_standard\n",
       "4  CGTGGCGTTTACACTA  neut_standard\n",
       "5  GCGATTCACGCGTTGG  neut_standard\n",
       "6  TACCCATGGATACGAT  neut_standard\n",
       "7  ATATAGACACGTGACC  neut_standard"
      ]
     },
     "execution_count": 16,
     "metadata": {},
     "output_type": "execute_result"
    }
   ],
   "source": [
    "neut_std_barcodes"
   ]
  },
  {
   "cell_type": "code",
   "execution_count": 17,
   "id": "280e7bbe-608f-4be4-9bb5-1bbcb8187eee",
   "metadata": {
    "tags": []
   },
   "outputs": [],
   "source": [
    "neut_std_barcodes.to_csv('neutralization_standard_barcodes.csv');"
   ]
  },
  {
   "cell_type": "code",
   "execution_count": null,
   "id": "8f2a7d32-b9c2-4bf2-99eb-dceac7e4df7f",
   "metadata": {},
   "outputs": [],
   "source": [
    "barcode\tname\n",
    "GTGCAGTAGTAAAGTA\tneut_standard\n",
    "TACGTCGCAATGGTCC\tneut_standard\n",
    "CCATCTAGTGGCTAGG\tneut_standard\n",
    "AGTAGACTCCCTCCAT\tneut_standard\n",
    "CGTGGCGTTTACACTA\tneut_standard\n",
    "GCGATTCACGCGTTGG\tneut_standard\n",
    "TACCCATGGATACGAT\tneut_standard\n",
    "ATATAGACACGTGACC\tneut_standard"
   ]
  },
  {
   "cell_type": "code",
   "execution_count": 2,
   "id": "97c7f37c-e77d-407e-a6ad-55429f61123d",
   "metadata": {
    "tags": []
   },
   "outputs": [],
   "source": [
    "#make designed mutations file\n",
    "\n",
    "seq='MVPQALLFVPLLVFPLCFGKFPIYTIPDKLGPWSPIDIHHLSCPNNLVVEDEGCTNLSGFSYMELKVGYISAIKMNGFTCTGVVTEAETYTNFVGYVTTTFKRKHFRPTPDACRAAYNWKMAGDPRYEESLHNPYPDYHWLRTVKTTKESLVIISPSVADLDPYDRSLHSRVFPGGNCSGVAVSSTYCSTNHDYTIWMPENPRLGMSCDIFTNSRGKRASKGSETCGFVDERGLYKSLKGACKLKLCGVLGLRLMDGTWVAMQTSNETKWCPPGQLVNLHDFRSDEIEHLVVEELVKKREECLDALESIMTTKSVSFRRLSHLRKLVPGFGKAYTIFNKTLMEADAHYKSVRTWNEIIPSKGCLRVGGRCHPHVNGVFFNGIILGPDGNVLIPEMQSSLLQQHMELLVSSVIPLMHPLADPSTVFKNGDEAEDFVEVHLPDVHERISGVDLGLPNWGKYVLLSAGALTALMLIIFLMTCWRRVNRSEPTQHNLRGTGREVSVTPQSGKIISSWESYKSGGETGL*';\n",
    "\n",
    "#range of mutagenized orf (only ectodomain)\n",
    "mutations_range = np.arange(18,451)\n",
    "\n",
    "#add stop mutation positions\n",
    "stop_positions = np.arange(18,58,2)\n",
    "\n",
    "#amino acid list\n",
    "aa_list=['A','C','D','E','F','G','H','I','K','L','M','N','P','Q','R','S','T','V','W','Y'];\n",
    "\n",
    "\n",
    "#headers of the dataframe\n",
    "sequential_site=[];\n",
    "amino_acid=[];\n",
    "mutation_type=[];\n",
    "\n"
   ]
  },
  {
   "cell_type": "code",
   "execution_count": 3,
   "id": "8c8c2e76-dd5d-4ba0-9f02-3dd5bb090633",
   "metadata": {
    "tags": []
   },
   "outputs": [
    {
     "name": "stdout",
     "output_type": "stream",
     "text": [
      "18\n",
      "20\n",
      "22\n",
      "24\n",
      "26\n",
      "28\n",
      "30\n",
      "32\n",
      "34\n",
      "36\n",
      "38\n",
      "40\n",
      "42\n",
      "44\n",
      "46\n",
      "48\n",
      "50\n",
      "52\n",
      "54\n",
      "56\n"
     ]
    }
   ],
   "source": [
    "#okay so i think i might go through the whole list now\n",
    "\n",
    "for i in mutations_range:\n",
    "    #amino acid -1 due to 0 index in string\n",
    "    codon_position = i-1;\n",
    "    wt_aa = seq[codon_position];\n",
    "    \n",
    "    #add mutations (aim for DMS, so add all not currently present)\n",
    "    for j in aa_list:\n",
    "        if wt_aa != j:\n",
    "            sequential_site.append(i);\n",
    "            amino_acid.append(j);\n",
    "            mutation_type.append('designed_mutation');\n",
    "        else:\n",
    "            continue\n",
    "    \n",
    "    #add stops\n",
    "    if (i in stop_positions):\n",
    "        print(i)\n",
    "        sequential_site.append(i);\n",
    "        amino_acid.append('*');\n",
    "        mutation_type.append('stop');\n",
    "    "
   ]
  },
  {
   "cell_type": "code",
   "execution_count": 4,
   "id": "83db95f5-57ad-4d13-8352-9e882d9c0443",
   "metadata": {
    "tags": []
   },
   "outputs": [
    {
     "data": {
      "text/plain": [
       "'F'"
      ]
     },
     "execution_count": 4,
     "metadata": {},
     "output_type": "execute_result"
    }
   ],
   "source": [
    "seq[17]"
   ]
  },
  {
   "cell_type": "code",
   "execution_count": 5,
   "id": "c4d81931-d351-4804-937b-b4355ce59dbb",
   "metadata": {
    "tags": []
   },
   "outputs": [
    {
     "data": {
      "text/plain": [
       "8247"
      ]
     },
     "execution_count": 5,
     "metadata": {},
     "output_type": "execute_result"
    }
   ],
   "source": [
    "len(sequential_site)"
   ]
  },
  {
   "cell_type": "code",
   "execution_count": 6,
   "id": "4347f25e-c246-4299-9933-0ebc9d9e5d6a",
   "metadata": {
    "tags": []
   },
   "outputs": [
    {
     "data": {
      "text/plain": [
       "8247"
      ]
     },
     "execution_count": 6,
     "metadata": {},
     "output_type": "execute_result"
    }
   ],
   "source": [
    "len(amino_acid)"
   ]
  },
  {
   "cell_type": "code",
   "execution_count": 8,
   "id": "f8f96a01-d870-4839-ab2b-1bbecc310b69",
   "metadata": {
    "tags": []
   },
   "outputs": [
    {
     "data": {
      "text/plain": [
       "8247"
      ]
     },
     "execution_count": 8,
     "metadata": {},
     "output_type": "execute_result"
    }
   ],
   "source": [
    "len(mutation_type)"
   ]
  },
  {
   "cell_type": "code",
   "execution_count": 10,
   "id": "25fe3b1b-9f11-47fe-aec5-e8b0974d68eb",
   "metadata": {
    "tags": []
   },
   "outputs": [],
   "source": [
    "designed_mutations = pd.DataFrame(columns=['sequential_site','amino_acid','mutation_type']);\n",
    "\n",
    "designed_mutations['sequential_site']=sequential_site\n",
    "designed_mutations['amino_acid']=amino_acid\n",
    "designed_mutations['mutation_type']=mutation_type\n"
   ]
  },
  {
   "cell_type": "code",
   "execution_count": 11,
   "id": "5e7c2eed-c5e5-4f3c-8712-0500f59b824a",
   "metadata": {
    "tags": []
   },
   "outputs": [
    {
     "data": {
      "text/html": [
       "<div>\n",
       "<style scoped>\n",
       "    .dataframe tbody tr th:only-of-type {\n",
       "        vertical-align: middle;\n",
       "    }\n",
       "\n",
       "    .dataframe tbody tr th {\n",
       "        vertical-align: top;\n",
       "    }\n",
       "\n",
       "    .dataframe thead th {\n",
       "        text-align: right;\n",
       "    }\n",
       "</style>\n",
       "<table border=\"1\" class=\"dataframe\">\n",
       "  <thead>\n",
       "    <tr style=\"text-align: right;\">\n",
       "      <th></th>\n",
       "      <th>sequential_site</th>\n",
       "      <th>amino_acid</th>\n",
       "      <th>mutation_type</th>\n",
       "    </tr>\n",
       "  </thead>\n",
       "  <tbody>\n",
       "    <tr>\n",
       "      <th>39</th>\n",
       "      <td>20</td>\n",
       "      <td>A</td>\n",
       "      <td>designed_mutation</td>\n",
       "    </tr>\n",
       "    <tr>\n",
       "      <th>40</th>\n",
       "      <td>20</td>\n",
       "      <td>C</td>\n",
       "      <td>designed_mutation</td>\n",
       "    </tr>\n",
       "    <tr>\n",
       "      <th>41</th>\n",
       "      <td>20</td>\n",
       "      <td>D</td>\n",
       "      <td>designed_mutation</td>\n",
       "    </tr>\n",
       "    <tr>\n",
       "      <th>42</th>\n",
       "      <td>20</td>\n",
       "      <td>E</td>\n",
       "      <td>designed_mutation</td>\n",
       "    </tr>\n",
       "    <tr>\n",
       "      <th>43</th>\n",
       "      <td>20</td>\n",
       "      <td>F</td>\n",
       "      <td>designed_mutation</td>\n",
       "    </tr>\n",
       "    <tr>\n",
       "      <th>44</th>\n",
       "      <td>20</td>\n",
       "      <td>G</td>\n",
       "      <td>designed_mutation</td>\n",
       "    </tr>\n",
       "    <tr>\n",
       "      <th>45</th>\n",
       "      <td>20</td>\n",
       "      <td>H</td>\n",
       "      <td>designed_mutation</td>\n",
       "    </tr>\n",
       "    <tr>\n",
       "      <th>46</th>\n",
       "      <td>20</td>\n",
       "      <td>I</td>\n",
       "      <td>designed_mutation</td>\n",
       "    </tr>\n",
       "    <tr>\n",
       "      <th>47</th>\n",
       "      <td>20</td>\n",
       "      <td>L</td>\n",
       "      <td>designed_mutation</td>\n",
       "    </tr>\n",
       "    <tr>\n",
       "      <th>48</th>\n",
       "      <td>20</td>\n",
       "      <td>M</td>\n",
       "      <td>designed_mutation</td>\n",
       "    </tr>\n",
       "    <tr>\n",
       "      <th>49</th>\n",
       "      <td>20</td>\n",
       "      <td>N</td>\n",
       "      <td>designed_mutation</td>\n",
       "    </tr>\n",
       "    <tr>\n",
       "      <th>50</th>\n",
       "      <td>20</td>\n",
       "      <td>P</td>\n",
       "      <td>designed_mutation</td>\n",
       "    </tr>\n",
       "    <tr>\n",
       "      <th>51</th>\n",
       "      <td>20</td>\n",
       "      <td>Q</td>\n",
       "      <td>designed_mutation</td>\n",
       "    </tr>\n",
       "    <tr>\n",
       "      <th>52</th>\n",
       "      <td>20</td>\n",
       "      <td>R</td>\n",
       "      <td>designed_mutation</td>\n",
       "    </tr>\n",
       "    <tr>\n",
       "      <th>53</th>\n",
       "      <td>20</td>\n",
       "      <td>S</td>\n",
       "      <td>designed_mutation</td>\n",
       "    </tr>\n",
       "    <tr>\n",
       "      <th>54</th>\n",
       "      <td>20</td>\n",
       "      <td>T</td>\n",
       "      <td>designed_mutation</td>\n",
       "    </tr>\n",
       "    <tr>\n",
       "      <th>55</th>\n",
       "      <td>20</td>\n",
       "      <td>V</td>\n",
       "      <td>designed_mutation</td>\n",
       "    </tr>\n",
       "    <tr>\n",
       "      <th>56</th>\n",
       "      <td>20</td>\n",
       "      <td>W</td>\n",
       "      <td>designed_mutation</td>\n",
       "    </tr>\n",
       "    <tr>\n",
       "      <th>57</th>\n",
       "      <td>20</td>\n",
       "      <td>Y</td>\n",
       "      <td>designed_mutation</td>\n",
       "    </tr>\n",
       "    <tr>\n",
       "      <th>58</th>\n",
       "      <td>20</td>\n",
       "      <td>*</td>\n",
       "      <td>stop</td>\n",
       "    </tr>\n",
       "  </tbody>\n",
       "</table>\n",
       "</div>"
      ],
      "text/plain": [
       "    sequential_site amino_acid      mutation_type\n",
       "39               20          A  designed_mutation\n",
       "40               20          C  designed_mutation\n",
       "41               20          D  designed_mutation\n",
       "42               20          E  designed_mutation\n",
       "43               20          F  designed_mutation\n",
       "44               20          G  designed_mutation\n",
       "45               20          H  designed_mutation\n",
       "46               20          I  designed_mutation\n",
       "47               20          L  designed_mutation\n",
       "48               20          M  designed_mutation\n",
       "49               20          N  designed_mutation\n",
       "50               20          P  designed_mutation\n",
       "51               20          Q  designed_mutation\n",
       "52               20          R  designed_mutation\n",
       "53               20          S  designed_mutation\n",
       "54               20          T  designed_mutation\n",
       "55               20          V  designed_mutation\n",
       "56               20          W  designed_mutation\n",
       "57               20          Y  designed_mutation\n",
       "58               20          *               stop"
      ]
     },
     "execution_count": 11,
     "metadata": {},
     "output_type": "execute_result"
    }
   ],
   "source": [
    "designed_mutations[designed_mutations['sequential_site']==20]"
   ]
  },
  {
   "cell_type": "code",
   "execution_count": 30,
   "id": "ccaa68ce-f5da-4500-8c93-bc5535b75e68",
   "metadata": {
    "tags": []
   },
   "outputs": [],
   "source": [
    "designed_mutations.to_csv('designed_mutations.csv')"
   ]
  },
  {
   "cell_type": "code",
   "execution_count": null,
   "id": "95f66bb1-895a-4731-89e3-68fd438ca0a3",
   "metadata": {},
   "outputs": [],
   "source": []
  }
 ],
 "metadata": {
  "kernelspec": {
   "display_name": "Python 3 (ipykernel)",
   "language": "python",
   "name": "python3"
  },
  "language_info": {
   "codemirror_mode": {
    "name": "ipython",
    "version": 3
   },
   "file_extension": ".py",
   "mimetype": "text/x-python",
   "name": "python",
   "nbconvert_exporter": "python",
   "pygments_lexer": "ipython3",
   "version": "3.11.7"
  }
 },
 "nbformat": 4,
 "nbformat_minor": 5
}
