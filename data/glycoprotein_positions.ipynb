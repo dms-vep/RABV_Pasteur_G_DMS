{
 "cells": [
  {
   "cell_type": "code",
   "execution_count": 2,
   "id": "b44b04d1-7168-408e-8030-2542a92a04ef",
   "metadata": {
    "tags": []
   },
   "outputs": [],
   "source": [
    "import numpy as np\n",
    "import pandas as pd\n"
   ]
  },
  {
   "cell_type": "code",
   "execution_count": 3,
   "id": "c0caf8ce-7cc2-4965-b39a-a39af27a1b08",
   "metadata": {
    "tags": []
   },
   "outputs": [],
   "source": [
    "#calculate positions of wildtype amino acids in RABV-G\n",
    "\n",
    "seq='MVPQALLFVPLLVFPLCFGKFPIYTIPDKLGPWSPIDIHHLSCPNNLVVEDEGCTNLSGFSYMELKVGYISAIKMNGFTCTGVVTEAETYTNFVGYVTTTFKRKHFRPTPDACRAAYNWKMAGDPRYEESLHNPYPDYHWLRTVKTTKESLVIISPSVADLDPYDRSLHSRVFPGGNCSGVAVSSTYCSTNHDYTIWMPENPRLGMSCDIFTNSRGKRASKGSETCGFVDERGLYKSLKGACKLKLCGVLGLRLMDGTWVAMQTSNETKWCPPGQLVNLHDFRSDEIEHLVVEELVKKREECLDALESIMTTKSVSFRRLSHLRKLVPGFGKAYTIFNKTLMEADAHYKSVRTWNEIIPSKGCLRVGGRCHPHVNGVFFNGIILGPDGNVLIPEMQSSLLQQHMELLVSSVIPLMHPLADPSTVFKNGDEAEDFVEVHLPDVHERISGVDLGLPNWGKYVLLSAGALTALMLIIFLMTCWRRVNRSEPTQHNLRGTGREVSVTPQSGKIISSWESYKSGGETGL*';\n",
    "\n",
    "\n",
    "numbering = np.arange(1,len(seq)+1,1)"
   ]
  },
  {
   "cell_type": "code",
   "execution_count": 4,
   "id": "531038cb-15de-49eb-b69a-03ec6da04055",
   "metadata": {
    "tags": []
   },
   "outputs": [],
   "source": [
    "seq_array = list(seq)"
   ]
  },
  {
   "cell_type": "code",
   "execution_count": 5,
   "id": "a0b4f2c1-97c5-4e3d-a5b1-c3554761a9dc",
   "metadata": {
    "tags": []
   },
   "outputs": [],
   "source": [
    "sequence_dataframe=pd.DataFrame(columns=['sequential_site','sequential_wt','reference_site','reference_wt','region'])\n",
    "\n",
    "sequence_dataframe['sequential_site']=numbering\n",
    "sequence_dataframe['reference_site']=numbering\n",
    "\n",
    "sequence_dataframe['sequential_wt']=seq_array;\n",
    "sequence_dataframe['reference_wt']=seq_array;"
   ]
  },
  {
   "cell_type": "code",
   "execution_count": 6,
   "id": "c33724ce-e966-438c-a6cf-11914739eaec",
   "metadata": {
    "tags": []
   },
   "outputs": [
    {
     "data": {
      "text/html": [
       "<div>\n",
       "<style scoped>\n",
       "    .dataframe tbody tr th:only-of-type {\n",
       "        vertical-align: middle;\n",
       "    }\n",
       "\n",
       "    .dataframe tbody tr th {\n",
       "        vertical-align: top;\n",
       "    }\n",
       "\n",
       "    .dataframe thead th {\n",
       "        text-align: right;\n",
       "    }\n",
       "</style>\n",
       "<table border=\"1\" class=\"dataframe\">\n",
       "  <thead>\n",
       "    <tr style=\"text-align: right;\">\n",
       "      <th></th>\n",
       "      <th>sequential_site</th>\n",
       "      <th>sequential_wt</th>\n",
       "      <th>reference_site</th>\n",
       "      <th>reference_wt</th>\n",
       "      <th>region</th>\n",
       "    </tr>\n",
       "  </thead>\n",
       "  <tbody>\n",
       "    <tr>\n",
       "      <th>0</th>\n",
       "      <td>1</td>\n",
       "      <td>M</td>\n",
       "      <td>1</td>\n",
       "      <td>M</td>\n",
       "      <td>NaN</td>\n",
       "    </tr>\n",
       "    <tr>\n",
       "      <th>1</th>\n",
       "      <td>2</td>\n",
       "      <td>V</td>\n",
       "      <td>2</td>\n",
       "      <td>V</td>\n",
       "      <td>NaN</td>\n",
       "    </tr>\n",
       "    <tr>\n",
       "      <th>2</th>\n",
       "      <td>3</td>\n",
       "      <td>P</td>\n",
       "      <td>3</td>\n",
       "      <td>P</td>\n",
       "      <td>NaN</td>\n",
       "    </tr>\n",
       "    <tr>\n",
       "      <th>3</th>\n",
       "      <td>4</td>\n",
       "      <td>Q</td>\n",
       "      <td>4</td>\n",
       "      <td>Q</td>\n",
       "      <td>NaN</td>\n",
       "    </tr>\n",
       "    <tr>\n",
       "      <th>4</th>\n",
       "      <td>5</td>\n",
       "      <td>A</td>\n",
       "      <td>5</td>\n",
       "      <td>A</td>\n",
       "      <td>NaN</td>\n",
       "    </tr>\n",
       "    <tr>\n",
       "      <th>...</th>\n",
       "      <td>...</td>\n",
       "      <td>...</td>\n",
       "      <td>...</td>\n",
       "      <td>...</td>\n",
       "      <td>...</td>\n",
       "    </tr>\n",
       "    <tr>\n",
       "      <th>520</th>\n",
       "      <td>521</td>\n",
       "      <td>E</td>\n",
       "      <td>521</td>\n",
       "      <td>E</td>\n",
       "      <td>NaN</td>\n",
       "    </tr>\n",
       "    <tr>\n",
       "      <th>521</th>\n",
       "      <td>522</td>\n",
       "      <td>T</td>\n",
       "      <td>522</td>\n",
       "      <td>T</td>\n",
       "      <td>NaN</td>\n",
       "    </tr>\n",
       "    <tr>\n",
       "      <th>522</th>\n",
       "      <td>523</td>\n",
       "      <td>G</td>\n",
       "      <td>523</td>\n",
       "      <td>G</td>\n",
       "      <td>NaN</td>\n",
       "    </tr>\n",
       "    <tr>\n",
       "      <th>523</th>\n",
       "      <td>524</td>\n",
       "      <td>L</td>\n",
       "      <td>524</td>\n",
       "      <td>L</td>\n",
       "      <td>NaN</td>\n",
       "    </tr>\n",
       "    <tr>\n",
       "      <th>524</th>\n",
       "      <td>525</td>\n",
       "      <td>*</td>\n",
       "      <td>525</td>\n",
       "      <td>*</td>\n",
       "      <td>NaN</td>\n",
       "    </tr>\n",
       "  </tbody>\n",
       "</table>\n",
       "<p>525 rows × 5 columns</p>\n",
       "</div>"
      ],
      "text/plain": [
       "     sequential_site sequential_wt  reference_site reference_wt region\n",
       "0                  1             M               1            M    NaN\n",
       "1                  2             V               2            V    NaN\n",
       "2                  3             P               3            P    NaN\n",
       "3                  4             Q               4            Q    NaN\n",
       "4                  5             A               5            A    NaN\n",
       "..               ...           ...             ...          ...    ...\n",
       "520              521             E             521            E    NaN\n",
       "521              522             T             522            T    NaN\n",
       "522              523             G             523            G    NaN\n",
       "523              524             L             524            L    NaN\n",
       "524              525             *             525            *    NaN\n",
       "\n",
       "[525 rows x 5 columns]"
      ]
     },
     "execution_count": 6,
     "metadata": {},
     "output_type": "execute_result"
    }
   ],
   "source": [
    "sequence_dataframe"
   ]
  },
  {
   "cell_type": "code",
   "execution_count": 7,
   "id": "a6245cb8-6cd2-434f-8796-2eaf0d3d60bf",
   "metadata": {
    "tags": []
   },
   "outputs": [],
   "source": [
    "sequence_dataframe.to_csv('site_numbering_map.csv');"
   ]
  },
  {
   "cell_type": "code",
   "execution_count": 10,
   "id": "50f68e91-5310-40af-8beb-400080883aa1",
   "metadata": {
    "tags": []
   },
   "outputs": [],
   "source": [
    "pacbio_dataframe=pd.DataFrame(columns=['library','run','fastq'])\n",
    "\n",
    "library = ['A','B'];\n",
    "run = ['220124','220124'];\n",
    "fastq=['/Volumes/bloom_j/SR/ngs/pacbio/240131_Arjun/r64272e_20240131_215047/2_B01/bc2083--bc2083/m64272e_240201_182146.hifi_reads.bc2083--bc2083.fastq',\n",
    "       '/Volumes/bloom_j/SR/ngs/pacbio/240131_Arjun/r64272e_20240131_215047/3_C01/bc2084--bc2084/m64272e_240203_003328.hifi_reads.bc2084--bc2084.fastq'];\n",
    "       "
   ]
  },
  {
   "cell_type": "code",
   "execution_count": 12,
   "id": "8585fd95-cd68-4bac-8d9d-4f0c2e7f7b54",
   "metadata": {
    "tags": []
   },
   "outputs": [],
   "source": [
    "pacbio_dataframe['library']=library;\n",
    "pacbio_dataframe['run']=run;\n",
    "pacbio_dataframe['fastq']=fastq;"
   ]
  },
  {
   "cell_type": "code",
   "execution_count": 13,
   "id": "fad89924-9b5c-434d-a3b8-94383b80f65c",
   "metadata": {
    "tags": []
   },
   "outputs": [
    {
     "data": {
      "text/html": [
       "<div>\n",
       "<style scoped>\n",
       "    .dataframe tbody tr th:only-of-type {\n",
       "        vertical-align: middle;\n",
       "    }\n",
       "\n",
       "    .dataframe tbody tr th {\n",
       "        vertical-align: top;\n",
       "    }\n",
       "\n",
       "    .dataframe thead th {\n",
       "        text-align: right;\n",
       "    }\n",
       "</style>\n",
       "<table border=\"1\" class=\"dataframe\">\n",
       "  <thead>\n",
       "    <tr style=\"text-align: right;\">\n",
       "      <th></th>\n",
       "      <th>library</th>\n",
       "      <th>run</th>\n",
       "      <th>fastq</th>\n",
       "    </tr>\n",
       "  </thead>\n",
       "  <tbody>\n",
       "    <tr>\n",
       "      <th>0</th>\n",
       "      <td>A</td>\n",
       "      <td>220124</td>\n",
       "      <td>/Volumes/bloom_j/SR/ngs/pacbio/240131_Arjun/r6...</td>\n",
       "    </tr>\n",
       "    <tr>\n",
       "      <th>1</th>\n",
       "      <td>B</td>\n",
       "      <td>220124</td>\n",
       "      <td>/Volumes/bloom_j/SR/ngs/pacbio/240131_Arjun/r6...</td>\n",
       "    </tr>\n",
       "  </tbody>\n",
       "</table>\n",
       "</div>"
      ],
      "text/plain": [
       "  library     run                                              fastq\n",
       "0       A  220124  /Volumes/bloom_j/SR/ngs/pacbio/240131_Arjun/r6...\n",
       "1       B  220124  /Volumes/bloom_j/SR/ngs/pacbio/240131_Arjun/r6..."
      ]
     },
     "execution_count": 13,
     "metadata": {},
     "output_type": "execute_result"
    }
   ],
   "source": [
    "pacbio_dataframe"
   ]
  },
  {
   "cell_type": "code",
   "execution_count": null,
   "id": "e3c28fa4-0408-4a09-97a9-6c9a932af7c3",
   "metadata": {},
   "outputs": [],
   "source": [
    "pacbio_dataframe.to_csv('pacbio_runs.csv"
   ]
  }
 ],
 "metadata": {
  "kernelspec": {
   "display_name": "Python 3 (ipykernel)",
   "language": "python",
   "name": "python3"
  },
  "language_info": {
   "codemirror_mode": {
    "name": "ipython",
    "version": 3
   },
   "file_extension": ".py",
   "mimetype": "text/x-python",
   "name": "python",
   "nbconvert_exporter": "python",
   "pygments_lexer": "ipython3",
   "version": "3.11.3"
  }
 },
 "nbformat": 4,
 "nbformat_minor": 5
}
